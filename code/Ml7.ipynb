{
 "cells": [
  {
   "cell_type": "markdown",
   "metadata": {
    "id": "C0eurvy9zgb2"
   },
   "source": [
    "# 7 Perform other matrix operations like converting matrix data to absolute values, taking the negative of matrix values, additing/removing rows/columns from a matrix, finding the maximum or minimum values in a matrix or in a row/column, and finding the sum of some/all elements in a matrix."
   ]
  },
  {
   "cell_type": "code",
   "execution_count": 1,
   "metadata": {
    "colab": {
     "base_uri": "https://localhost:8080/"
    },
    "executionInfo": {
     "elapsed": 31,
     "status": "ok",
     "timestamp": 1682600666153,
     "user": {
      "displayName": "HARSH JAISWAL",
      "userId": "13666398703787919506"
     },
     "user_tz": -330
    },
    "id": "c2Byb7R60ARn",
    "outputId": "03dcf0d0-7acc-404e-be8f-938be6279bc8"
   },
   "outputs": [
    {
     "name": "stdout",
     "output_type": "stream",
     "text": [
      "A = \n",
      " [[  3   6   9]\n",
      " [  5 -10  15]\n",
      " [ -7  14  21]] \n",
      "B = \n",
      " [[  9 -18  27]\n",
      " [ 11  22  33]\n",
      " [ 13 -26  39]]\n"
     ]
    }
   ],
   "source": [
    "import numpy as np\n",
    "A = np.array([[3, 6, 9], [5, -10, 15], [-7, 14, 21]])\n",
    "B = np.array([[9, -18, 27], [11, 22, 33], [13, -26, 39]])\n",
    "print(\"A = \\n\", A, \"\\nB = \\n\", B)"
   ]
  },
  {
   "cell_type": "code",
   "execution_count": 2,
   "metadata": {
    "colab": {
     "base_uri": "https://localhost:8080/"
    },
    "executionInfo": {
     "elapsed": 38,
     "status": "ok",
     "timestamp": 1682600681846,
     "user": {
      "displayName": "HARSH JAISWAL",
      "userId": "13666398703787919506"
     },
     "user_tz": -330
    },
    "id": "Qj6MidYw0J7n",
    "outputId": "111a9a92-fe5b-4bba-bcca-4ed335710b15"
   },
   "outputs": [
    {
     "data": {
      "text/plain": [
       "array([[ 3,  6,  9],\n",
       "       [ 5, 10, 15],\n",
       "       [ 7, 14, 21]])"
      ]
     },
     "execution_count": 2,
     "metadata": {},
     "output_type": "execute_result"
    }
   ],
   "source": [
    "# Converting matrix A data to its absolute values\n",
    "np.absolute(A)"
   ]
  },
  {
   "cell_type": "code",
   "execution_count": 3,
   "metadata": {
    "colab": {
     "base_uri": "https://localhost:8080/"
    },
    "executionInfo": {
     "elapsed": 14,
     "status": "ok",
     "timestamp": 1682600706491,
     "user": {
      "displayName": "HARSH JAISWAL",
      "userId": "13666398703787919506"
     },
     "user_tz": -330
    },
    "id": "P8k0fpET0NzG",
    "outputId": "fc6468f2-54ef-473a-c5f1-82daf15b993c"
   },
   "outputs": [
    {
     "data": {
      "text/plain": [
       "array([[ -9,  18, -27],\n",
       "       [-11, -22, -33],\n",
       "       [-13,  26, -39]])"
      ]
     },
     "execution_count": 3,
     "metadata": {},
     "output_type": "execute_result"
    }
   ],
   "source": [
    "# Converting matrix B data to its negative values\n",
    "np.negative(B)"
   ]
  },
  {
   "cell_type": "code",
   "execution_count": 4,
   "metadata": {
    "colab": {
     "base_uri": "https://localhost:8080/"
    },
    "executionInfo": {
     "elapsed": 64,
     "status": "ok",
     "timestamp": 1682600720449,
     "user": {
      "displayName": "HARSH JAISWAL",
      "userId": "13666398703787919506"
     },
     "user_tz": -330
    },
    "id": "cCEGBreZ0T20",
    "outputId": "ccc4ffd8-9d60-485d-ae97-d46689f64c3b"
   },
   "outputs": [
    {
     "data": {
      "text/plain": [
       "array([[ 3,  6,  9],\n",
       "       [-7, 14, 21]])"
      ]
     },
     "execution_count": 4,
     "metadata": {},
     "output_type": "execute_result"
    }
   ],
   "source": [
    "# Deleting a row from Matrix A\n",
    "np.delete(A, 1, 0)"
   ]
  },
  {
   "cell_type": "code",
   "execution_count": 5,
   "metadata": {
    "colab": {
     "base_uri": "https://localhost:8080/"
    },
    "executionInfo": {
     "elapsed": 996,
     "status": "ok",
     "timestamp": 1682600730906,
     "user": {
      "displayName": "HARSH JAISWAL",
      "userId": "13666398703787919506"
     },
     "user_tz": -330
    },
    "id": "galyY_GW0Ws_",
    "outputId": "46e19022-572c-48d6-eb65-889c1661d9d2"
   },
   "outputs": [
    {
     "data": {
      "text/plain": [
       "array([[-18,  27],\n",
       "       [ 22,  33],\n",
       "       [-26,  39]])"
      ]
     },
     "execution_count": 5,
     "metadata": {},
     "output_type": "execute_result"
    }
   ],
   "source": [
    "# Deleting a column from Matrix B\n",
    "np.delete(B, 0, 1)"
   ]
  },
  {
   "cell_type": "code",
   "execution_count": 6,
   "metadata": {
    "colab": {
     "base_uri": "https://localhost:8080/"
    },
    "executionInfo": {
     "elapsed": 579,
     "status": "ok",
     "timestamp": 1682600762323,
     "user": {
      "displayName": "HARSH JAISWAL",
      "userId": "13666398703787919506"
     },
     "user_tz": -330
    },
    "id": "lRfc89Cn0ZY5",
    "outputId": "d1988294-74c5-4e21-eca1-a9a31d034ceb"
   },
   "outputs": [
    {
     "data": {
      "text/plain": [
       "array([[  3,   6,   9],\n",
       "       [  5, -10,  15],\n",
       "       [ -7,  14,  21],\n",
       "       [ 23, -45,  56]])"
      ]
     },
     "execution_count": 6,
     "metadata": {},
     "output_type": "execute_result"
    }
   ],
   "source": [
    "# Adding a row to Matrix A\n",
    "np.append(A, np.array([[23, -45, 56]]), axis=0)"
   ]
  },
  {
   "cell_type": "code",
   "execution_count": 7,
   "metadata": {
    "colab": {
     "base_uri": "https://localhost:8080/"
    },
    "executionInfo": {
     "elapsed": 24,
     "status": "ok",
     "timestamp": 1682600780228,
     "user": {
      "displayName": "HARSH JAISWAL",
      "userId": "13666398703787919506"
     },
     "user_tz": -330
    },
    "id": "47XJVq8o0hLB",
    "outputId": "c3ab3249-4381-4a91-d139-b7a7101dec9f"
   },
   "outputs": [
    {
     "data": {
      "text/plain": [
       "array([[  9, -18,  27,  23],\n",
       "       [ 11,  22,  33, -45],\n",
       "       [ 13, -26,  39,  56]])"
      ]
     },
     "execution_count": 7,
     "metadata": {},
     "output_type": "execute_result"
    }
   ],
   "source": [
    "# Adding a column to Matrix B\n",
    "np.append(B, [[23], [-45], [56]], axis=1)"
   ]
  },
  {
   "cell_type": "code",
   "execution_count": 8,
   "metadata": {
    "colab": {
     "base_uri": "https://localhost:8080/"
    },
    "executionInfo": {
     "elapsed": 52,
     "status": "ok",
     "timestamp": 1682600794588,
     "user": {
      "displayName": "HARSH JAISWAL",
      "userId": "13666398703787919506"
     },
     "user_tz": -330
    },
    "id": "yBlHtzU70li6",
    "outputId": "b1e53577-3b09-4064-fb7e-a5f54cd61444"
   },
   "outputs": [
    {
     "data": {
      "text/plain": [
       "14"
      ]
     },
     "execution_count": 8,
     "metadata": {},
     "output_type": "execute_result"
    }
   ],
   "source": [
    "# Maximum of 2nd row of Matrix A\n",
    "np.max(A, 0)[1]"
   ]
  },
  {
   "cell_type": "code",
   "execution_count": 9,
   "metadata": {
    "colab": {
     "base_uri": "https://localhost:8080/"
    },
    "executionInfo": {
     "elapsed": 31,
     "status": "ok",
     "timestamp": 1682600807945,
     "user": {
      "displayName": "HARSH JAISWAL",
      "userId": "13666398703787919506"
     },
     "user_tz": -330
    },
    "id": "n-_by50S0o1-",
    "outputId": "b1b82599-e143-43c9-b0f5-92086fbd9cca"
   },
   "outputs": [
    {
     "data": {
      "text/plain": [
       "39"
      ]
     },
     "execution_count": 9,
     "metadata": {},
     "output_type": "execute_result"
    }
   ],
   "source": [
    "# Maximum of 3rd column of Matrix B\n",
    "np.max(B, 1)[2]"
   ]
  },
  {
   "cell_type": "code",
   "execution_count": 10,
   "metadata": {
    "colab": {
     "base_uri": "https://localhost:8080/"
    },
    "executionInfo": {
     "elapsed": 17,
     "status": "ok",
     "timestamp": 1682600822006,
     "user": {
      "displayName": "HARSH JAISWAL",
      "userId": "13666398703787919506"
     },
     "user_tz": -330
    },
    "id": "EX8v2ihD0sdr",
    "outputId": "10faece3-952f-429e-de8f-3815805de3aa"
   },
   "outputs": [
    {
     "data": {
      "text/plain": [
       "-26"
      ]
     },
     "execution_count": 10,
     "metadata": {},
     "output_type": "execute_result"
    }
   ],
   "source": [
    "# Minimum of 3rd column of Matrix B\n",
    "np.min(B, 1)[2]"
   ]
  },
  {
   "cell_type": "code",
   "execution_count": 11,
   "metadata": {
    "colab": {
     "base_uri": "https://localhost:8080/"
    },
    "executionInfo": {
     "elapsed": 15,
     "status": "ok",
     "timestamp": 1682600842076,
     "user": {
      "displayName": "HARSH JAISWAL",
      "userId": "13666398703787919506"
     },
     "user_tz": -330
    },
    "id": "egVFppBr0v1s",
    "outputId": "7f6f47ca-8de6-41d1-fd48-01a31a0825d2"
   },
   "outputs": [
    {
     "data": {
      "text/plain": [
       "40"
      ]
     },
     "execution_count": 11,
     "metadata": {},
     "output_type": "execute_result"
    }
   ],
   "source": [
    "# Sum of some elements of array\n",
    "np.sum(A[1:, 1:])"
   ]
  },
  {
   "cell_type": "code",
   "execution_count": 12,
   "metadata": {
    "colab": {
     "base_uri": "https://localhost:8080/"
    },
    "executionInfo": {
     "elapsed": 51,
     "status": "ok",
     "timestamp": 1682600856970,
     "user": {
      "displayName": "HARSH JAISWAL",
      "userId": "13666398703787919506"
     },
     "user_tz": -330
    },
    "id": "RWGZLYbW0ycb",
    "outputId": "5c6e4cf0-f63a-4b61-ee10-c6c100f9bbe6"
   },
   "outputs": [
    {
     "name": "stdout",
     "output_type": "stream",
     "text": [
      "sumA =  56 , sumB =  110\n"
     ]
    }
   ],
   "source": [
    "# Sum of all elements of array\n",
    "sumA = np.sum(A)\n",
    "sumB = np.sum(B)\n",
    "print('sumA = ', sumA, ', sumB = ', sumB)"
   ]
  }
 ],
 "metadata": {
  "colab": {
   "authorship_tag": "ABX9TyP1a5d4Qq+RSJ3KFQCvCHwL",
   "provenance": []
  },
  "kernelspec": {
   "display_name": "Python 3 (ipykernel)",
   "language": "python",
   "name": "python3"
  },
  "language_info": {
   "codemirror_mode": {
    "name": "ipython",
    "version": 3
   },
   "file_extension": ".py",
   "mimetype": "text/x-python",
   "name": "python",
   "nbconvert_exporter": "python",
   "pygments_lexer": "ipython3",
   "version": "3.11.2"
  }
 },
 "nbformat": 4,
 "nbformat_minor": 1
}
