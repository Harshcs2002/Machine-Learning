{
 "cells": [
  {
   "cell_type": "markdown",
   "metadata": {
    "id": "BzGELgrByS69"
   },
   "source": [
    "# 6 Perform basic operations on matrices (like addition, subtraction, multiplication) and display specific rows or columns of the matrix."
   ]
  },
  {
   "cell_type": "code",
   "execution_count": 1,
   "metadata": {
    "colab": {
     "base_uri": "https://localhost:8080/"
    },
    "executionInfo": {
     "elapsed": 1724,
     "status": "ok",
     "timestamp": 1682600310877,
     "user": {
      "displayName": "HARSH JAISWAL",
      "userId": "13666398703787919506"
     },
     "user_tz": -330
    },
    "id": "uS2LmFM-ybjj",
    "outputId": "8de4c4af-76ba-4114-b503-3df103d02e23"
   },
   "outputs": [
    {
     "name": "stdout",
     "output_type": "stream",
     "text": [
      "A = \n",
      " [[  3   6   9]\n",
      " [  5 -10  15]\n",
      " [ -7  14  21]] \n",
      "B = \n",
      " [[  9 -18  27]\n",
      " [ 11  22  33]\n",
      " [ 13 -26  39]]\n"
     ]
    }
   ],
   "source": [
    "import numpy as np\n",
    "A = np.array([[3, 6, 9], [5, -10, 15], [-7, 14, 21]])\n",
    "B = np.array([[9, -18, 27], [11, 22, 33], [13, -26, 39]])\n",
    "print(\"A = \\n\", A, \"\\nB = \\n\", B)"
   ]
  },
  {
   "cell_type": "code",
   "execution_count": 2,
   "metadata": {
    "colab": {
     "base_uri": "https://localhost:8080/"
    },
    "executionInfo": {
     "elapsed": 114,
     "status": "ok",
     "timestamp": 1682600329083,
     "user": {
      "displayName": "HARSH JAISWAL",
      "userId": "13666398703787919506"
     },
     "user_tz": -330
    },
    "id": "RISMe-y4yz0L",
    "outputId": "e0a2bed8-f203-4958-9b91-f570b474a819"
   },
   "outputs": [
    {
     "name": "stdout",
     "output_type": "stream",
     "text": [
      "C = A + B =\n",
      " [[ 12 -12  36]\n",
      " [ 16  12  48]\n",
      " [  6 -12  60]]\n"
     ]
    }
   ],
   "source": [
    "# Matrix Addition\n",
    "C = A + B\n",
    "print('C = A + B =\\n', C)"
   ]
  },
  {
   "cell_type": "code",
   "execution_count": 3,
   "metadata": {
    "colab": {
     "base_uri": "https://localhost:8080/"
    },
    "executionInfo": {
     "elapsed": 48,
     "status": "ok",
     "timestamp": 1682600352954,
     "user": {
      "displayName": "HARSH JAISWAL",
      "userId": "13666398703787919506"
     },
     "user_tz": -330
    },
    "id": "76cF3bcNy3Yg",
    "outputId": "f2fba2d9-c812-4cca-ab99-e7457e99f08a"
   },
   "outputs": [
    {
     "name": "stdout",
     "output_type": "stream",
     "text": [
      "C = A - B =\n",
      " [[ -6  24 -18]\n",
      " [ -6 -32 -18]\n",
      " [-20  40 -18]]\n"
     ]
    }
   ],
   "source": [
    "# Matrix Subtraction\n",
    "C = A - B\n",
    "print('C = A - B =\\n', C)"
   ]
  },
  {
   "cell_type": "code",
   "execution_count": 4,
   "metadata": {
    "colab": {
     "base_uri": "https://localhost:8080/"
    },
    "executionInfo": {
     "elapsed": 78,
     "status": "ok",
     "timestamp": 1682600363851,
     "user": {
      "displayName": "HARSH JAISWAL",
      "userId": "13666398703787919506"
     },
     "user_tz": -330
    },
    "id": "oAxikaNfy87Y",
    "outputId": "ce0a3d90-c653-4156-9ea9-ce208d0404c6"
   },
   "outputs": [
    {
     "name": "stdout",
     "output_type": "stream",
     "text": [
      "C = A * B =\n",
      " [[ 210 -156  630]\n",
      " [ 130 -700  390]\n",
      " [ 364 -112 1092]]\n"
     ]
    }
   ],
   "source": [
    "# Matrix Multiplication\n",
    "C = A.dot(B)\n",
    "print('C = A * B =\\n', C)"
   ]
  },
  {
   "cell_type": "code",
   "execution_count": 5,
   "metadata": {
    "colab": {
     "base_uri": "https://localhost:8080/"
    },
    "executionInfo": {
     "elapsed": 49,
     "status": "ok",
     "timestamp": 1682600374642,
     "user": {
      "displayName": "HARSH JAISWAL",
      "userId": "13666398703787919506"
     },
     "user_tz": -330
    },
    "id": "9sNBnWzQy_up",
    "outputId": "45096d69-8633-4195-e74e-e36f0dbcb7c5"
   },
   "outputs": [
    {
     "name": "stdout",
     "output_type": "stream",
     "text": [
      "[[  5 -10  15]]\n"
     ]
    }
   ],
   "source": [
    "# Print 2nd row of Matrix A\n",
    "print(A[1:2])"
   ]
  },
  {
   "cell_type": "code",
   "execution_count": 6,
   "metadata": {
    "colab": {
     "base_uri": "https://localhost:8080/"
    },
    "executionInfo": {
     "elapsed": 26,
     "status": "ok",
     "timestamp": 1682600394801,
     "user": {
      "displayName": "HARSH JAISWAL",
      "userId": "13666398703787919506"
     },
     "user_tz": -330
    },
    "id": "kR_zsYCGzCmF",
    "outputId": "f55f29f5-319e-41af-af96-d7ee671a600a"
   },
   "outputs": [
    {
     "name": "stdout",
     "output_type": "stream",
     "text": [
      "[[  9 -18  27]]\n"
     ]
    }
   ],
   "source": [
    "# Print 1st row of Matrix B\n",
    "print(B[:1])"
   ]
  },
  {
   "cell_type": "code",
   "execution_count": 7,
   "metadata": {
    "colab": {
     "base_uri": "https://localhost:8080/"
    },
    "executionInfo": {
     "elapsed": 8694,
     "status": "ok",
     "timestamp": 1682600408106,
     "user": {
      "displayName": "HARSH JAISWAL",
      "userId": "13666398703787919506"
     },
     "user_tz": -330
    },
    "id": "Kb6G60jKzFy6",
    "outputId": "02504a98-3097-4669-c3dc-8cfa76361044"
   },
   "outputs": [
    {
     "name": "stdout",
     "output_type": "stream",
     "text": [
      "[[  6]\n",
      " [-10]\n",
      " [ 14]]\n"
     ]
    }
   ],
   "source": [
    "# Print 2nd column of Matrix A\n",
    "print(A[:,1:2])"
   ]
  },
  {
   "cell_type": "code",
   "execution_count": 8,
   "metadata": {
    "colab": {
     "base_uri": "https://localhost:8080/"
    },
    "executionInfo": {
     "elapsed": 28,
     "status": "ok",
     "timestamp": 1682600413095,
     "user": {
      "displayName": "HARSH JAISWAL",
      "userId": "13666398703787919506"
     },
     "user_tz": -330
    },
    "id": "MOvXZCzjzI_j",
    "outputId": "7976a377-4954-4abf-fba2-a6ade74cdeb2"
   },
   "outputs": [
    {
     "name": "stdout",
     "output_type": "stream",
     "text": [
      "[[27]\n",
      " [33]\n",
      " [39]]\n"
     ]
    }
   ],
   "source": [
    "# Print 3rd column of Matrix B\n",
    "print(B[:,2:3])"
   ]
  }
 ],
 "metadata": {
  "colab": {
   "authorship_tag": "ABX9TyNdeIcVNQ3L/rZYOD1cxYKj",
   "provenance": []
  },
  "kernelspec": {
   "display_name": "Python 3 (ipykernel)",
   "language": "python",
   "name": "python3"
  },
  "language_info": {
   "codemirror_mode": {
    "name": "ipython",
    "version": 3
   },
   "file_extension": ".py",
   "mimetype": "text/x-python",
   "name": "python",
   "nbconvert_exporter": "python",
   "pygments_lexer": "ipython3",
   "version": "3.11.2"
  }
 },
 "nbformat": 4,
 "nbformat_minor": 1
}
