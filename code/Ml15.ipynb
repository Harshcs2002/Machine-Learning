{
 "cells": [
  {
   "cell_type": "markdown",
   "metadata": {
    "id": "ZEr76npSQ1kZ"
   },
   "source": [
    "# 15 Use some function for regularization of dataset based on problem 14"
   ]
  },
  {
   "cell_type": "code",
   "execution_count": 1,
   "metadata": {
    "id": "drt_X6sBQxYD"
   },
   "outputs": [],
   "source": [
    "import numpy as np\n",
    "import matplotlib.pyplot as plt\n",
    "import pandas as pd"
   ]
  },
  {
   "cell_type": "code",
   "execution_count": 2,
   "metadata": {
    "colab": {
     "base_uri": "https://localhost:8080/",
     "height": 206
    },
    "id": "sujgCsa0Q8pG",
    "outputId": "6854ab7e-900f-4f1b-b89f-214dff78521f"
   },
   "outputs": [
    {
     "data": {
      "text/html": [
       "\n",
       "  <div id=\"df-5b8480d2-8ce9-499a-93be-c956fd1d09a1\">\n",
       "    <div class=\"colab-df-container\">\n",
       "      <div>\n",
       "<style scoped>\n",
       "    .dataframe tbody tr th:only-of-type {\n",
       "        vertical-align: middle;\n",
       "    }\n",
       "\n",
       "    .dataframe tbody tr th {\n",
       "        vertical-align: top;\n",
       "    }\n",
       "\n",
       "    .dataframe thead th {\n",
       "        text-align: right;\n",
       "    }\n",
       "</style>\n",
       "<table border=\"1\" class=\"dataframe\">\n",
       "  <thead>\n",
       "    <tr style=\"text-align: right;\">\n",
       "      <th></th>\n",
       "      <th>Hours_studied</th>\n",
       "      <th>Hours_slept</th>\n",
       "      <th>Result</th>\n",
       "    </tr>\n",
       "  </thead>\n",
       "  <tbody>\n",
       "    <tr>\n",
       "      <th>0</th>\n",
       "      <td>7.329712</td>\n",
       "      <td>7.848625</td>\n",
       "      <td>0</td>\n",
       "    </tr>\n",
       "    <tr>\n",
       "      <th>1</th>\n",
       "      <td>14.649273</td>\n",
       "      <td>10.545618</td>\n",
       "      <td>1</td>\n",
       "    </tr>\n",
       "    <tr>\n",
       "      <th>2</th>\n",
       "      <td>3.431501</td>\n",
       "      <td>6.127123</td>\n",
       "      <td>0</td>\n",
       "    </tr>\n",
       "    <tr>\n",
       "      <th>3</th>\n",
       "      <td>5.888299</td>\n",
       "      <td>6.204252</td>\n",
       "      <td>0</td>\n",
       "    </tr>\n",
       "    <tr>\n",
       "      <th>4</th>\n",
       "      <td>3.680169</td>\n",
       "      <td>6.072624</td>\n",
       "      <td>0</td>\n",
       "    </tr>\n",
       "  </tbody>\n",
       "</table>\n",
       "</div>\n",
       "      <button class=\"colab-df-convert\" onclick=\"convertToInteractive('df-5b8480d2-8ce9-499a-93be-c956fd1d09a1')\"\n",
       "              title=\"Convert this dataframe to an interactive table.\"\n",
       "              style=\"display:none;\">\n",
       "        \n",
       "  <svg xmlns=\"http://www.w3.org/2000/svg\" height=\"24px\"viewBox=\"0 0 24 24\"\n",
       "       width=\"24px\">\n",
       "    <path d=\"M0 0h24v24H0V0z\" fill=\"none\"/>\n",
       "    <path d=\"M18.56 5.44l.94 2.06.94-2.06 2.06-.94-2.06-.94-.94-2.06-.94 2.06-2.06.94zm-11 1L8.5 8.5l.94-2.06 2.06-.94-2.06-.94L8.5 2.5l-.94 2.06-2.06.94zm10 10l.94 2.06.94-2.06 2.06-.94-2.06-.94-.94-2.06-.94 2.06-2.06.94z\"/><path d=\"M17.41 7.96l-1.37-1.37c-.4-.4-.92-.59-1.43-.59-.52 0-1.04.2-1.43.59L10.3 9.45l-7.72 7.72c-.78.78-.78 2.05 0 2.83L4 21.41c.39.39.9.59 1.41.59.51 0 1.02-.2 1.41-.59l7.78-7.78 2.81-2.81c.8-.78.8-2.07 0-2.86zM5.41 20L4 18.59l7.72-7.72 1.47 1.35L5.41 20z\"/>\n",
       "  </svg>\n",
       "      </button>\n",
       "      \n",
       "  <style>\n",
       "    .colab-df-container {\n",
       "      display:flex;\n",
       "      flex-wrap:wrap;\n",
       "      gap: 12px;\n",
       "    }\n",
       "\n",
       "    .colab-df-convert {\n",
       "      background-color: #E8F0FE;\n",
       "      border: none;\n",
       "      border-radius: 50%;\n",
       "      cursor: pointer;\n",
       "      display: none;\n",
       "      fill: #1967D2;\n",
       "      height: 32px;\n",
       "      padding: 0 0 0 0;\n",
       "      width: 32px;\n",
       "    }\n",
       "\n",
       "    .colab-df-convert:hover {\n",
       "      background-color: #E2EBFA;\n",
       "      box-shadow: 0px 1px 2px rgba(60, 64, 67, 0.3), 0px 1px 3px 1px rgba(60, 64, 67, 0.15);\n",
       "      fill: #174EA6;\n",
       "    }\n",
       "\n",
       "    [theme=dark] .colab-df-convert {\n",
       "      background-color: #3B4455;\n",
       "      fill: #D2E3FC;\n",
       "    }\n",
       "\n",
       "    [theme=dark] .colab-df-convert:hover {\n",
       "      background-color: #434B5C;\n",
       "      box-shadow: 0px 1px 3px 1px rgba(0, 0, 0, 0.15);\n",
       "      filter: drop-shadow(0px 1px 2px rgba(0, 0, 0, 0.3));\n",
       "      fill: #FFFFFF;\n",
       "    }\n",
       "  </style>\n",
       "\n",
       "      <script>\n",
       "        const buttonEl =\n",
       "          document.querySelector('#df-5b8480d2-8ce9-499a-93be-c956fd1d09a1 button.colab-df-convert');\n",
       "        buttonEl.style.display =\n",
       "          google.colab.kernel.accessAllowed ? 'block' : 'none';\n",
       "\n",
       "        async function convertToInteractive(key) {\n",
       "          const element = document.querySelector('#df-5b8480d2-8ce9-499a-93be-c956fd1d09a1');\n",
       "          const dataTable =\n",
       "            await google.colab.kernel.invokeFunction('convertToInteractive',\n",
       "                                                     [key], {});\n",
       "          if (!dataTable) return;\n",
       "\n",
       "          const docLinkHtml = 'Like what you see? Visit the ' +\n",
       "            '<a target=\"_blank\" href=https://colab.research.google.com/notebooks/data_table.ipynb>data table notebook</a>'\n",
       "            + ' to learn more about interactive tables.';\n",
       "          element.innerHTML = '';\n",
       "          dataTable['output_type'] = 'display_data';\n",
       "          await google.colab.output.renderOutput(dataTable, element);\n",
       "          const docLink = document.createElement('div');\n",
       "          docLink.innerHTML = docLinkHtml;\n",
       "          element.appendChild(docLink);\n",
       "        }\n",
       "      </script>\n",
       "    </div>\n",
       "  </div>\n",
       "  "
      ],
      "text/plain": [
       "   Hours_studied  Hours_slept  Result\n",
       "0       7.329712     7.848625       0\n",
       "1      14.649273    10.545618       1\n",
       "2       3.431501     6.127123       0\n",
       "3       5.888299     6.204252       0\n",
       "4       3.680169     6.072624       0"
      ]
     },
     "execution_count": 2,
     "metadata": {},
     "output_type": "execute_result"
    }
   ],
   "source": [
    "data = pd.read_csv('/content/student.csv')\n",
    "X = data.iloc[:, :-1].values\n",
    "y = data.iloc[:, -1].values\n",
    "X = np.c_[np.ones((X.shape[0], 1)), X]\n",
    "y = y[:, np.newaxis]\n",
    "data.head()"
   ]
  },
  {
   "cell_type": "code",
   "execution_count": 3,
   "metadata": {
    "colab": {
     "base_uri": "https://localhost:8080/"
    },
    "id": "BxK2t8NdRCM6",
    "outputId": "ba17f7e3-eb49-4696-9600-41ba8235c370"
   },
   "outputs": [
    {
     "name": "stdout",
     "output_type": "stream",
     "text": [
      "40 40 10 10\n"
     ]
    }
   ],
   "source": [
    "from sklearn.model_selection import train_test_split\n",
    "X_train, X_test, y_train, y_test = train_test_split(X, y, test_size=0.2, random_state=0)\n",
    "print(len(X_train),len(y_train),  len(X_test), len(y_test))"
   ]
  },
  {
   "cell_type": "code",
   "execution_count": 4,
   "metadata": {
    "id": "SU2Ms0XZRFxn"
   },
   "outputs": [],
   "source": [
    "def sigmoid(x):\n",
    "    return 1/(1+np.exp(-x))"
   ]
  },
  {
   "cell_type": "code",
   "execution_count": 6,
   "metadata": {
    "id": "P3zh5cRWRYBq"
   },
   "outputs": [],
   "source": [
    "def cost_function(X, y, theta):\n",
    "  \n",
    "    m = len(y)\n",
    "    \n",
    "    # hypothesis\n",
    "    h = sigmoid(X.dot(theta))\n",
    "\n",
    "    # cost\n",
    "    J = (1 / m) * np.sum((-y * np.log(h)) - ((1 - y) * np.log(1 - h)))\n",
    "\n",
    "    return J"
   ]
  },
  {
   "cell_type": "code",
   "execution_count": 7,
   "metadata": {
    "id": "z0oQx0BlRIVs"
   },
   "outputs": [],
   "source": [
    "\n",
    "# logistic regression with L1 regularization\n",
    "def logistic_regression_L1(X, y, theta, alpha, iterations, l1):\n",
    "\n",
    "        m = len(y)    \n",
    "        # cost history\n",
    "        J_history = np.zeros((iterations, 1))\n",
    "    \n",
    "        for i in range(iterations):\n",
    "    \n",
    "            # hypothesis\n",
    "            h = sigmoid(X.dot(theta))\n",
    "    \n",
    "            # gradient\n",
    "            theta = theta - (alpha / m) * (X.T.dot(h - y)) + (l1 / m) * np.sign(theta)\n",
    "    \n",
    "            # cost\n",
    "            J_history[i] = cost_function(X, y, theta)\n",
    "    \n",
    "        return (J_history, theta)"
   ]
  },
  {
   "cell_type": "code",
   "execution_count": 13,
   "metadata": {
    "id": "nh68RdIdR5Se"
   },
   "outputs": [],
   "source": [
    "def predict(X, theta):\n",
    "    \n",
    "        # hypothesis\n",
    "        h = sigmoid(X.dot(theta))\n",
    "    \n",
    "        # convert probabilities to 0 or 1\n",
    "        h[h >= 0.5] = 1\n",
    "        h[h < 0.5] = 0\n",
    "    \n",
    "        return h"
   ]
  },
  {
   "cell_type": "code",
   "execution_count": 9,
   "metadata": {
    "colab": {
     "base_uri": "https://localhost:8080/"
    },
    "id": "v-5vteFhRdlR",
    "outputId": "0e7ab14c-527e-4f80-ae22-4787ea447baf"
   },
   "outputs": [
    {
     "name": "stdout",
     "output_type": "stream",
     "text": [
      "Initial cost is:  0.6931471805599454\n"
     ]
    }
   ],
   "source": [
    "alpha = 0.01\n",
    "theta = np.zeros((X_train.shape[1], 1))\n",
    "iterations = 10000\n",
    "# regularization parameter\n",
    "l1 = 0.1\n",
    "print('Initial cost is: ', cost_function(X_train, y_train, theta))"
   ]
  },
  {
   "cell_type": "code",
   "execution_count": 10,
   "metadata": {
    "colab": {
     "base_uri": "https://localhost:8080/"
    },
    "id": "K0lFv7zbRjDI",
    "outputId": "6bd88b70-a3bb-4961-e8f6-73b5b5d4e82d"
   },
   "outputs": [
    {
     "name": "stdout",
     "output_type": "stream",
     "text": [
      "Optimized cost is:  [0.32018745]\n",
      "Optimized parameters are:  [[-27.89570423]\n",
      " [  1.31819399]\n",
      " [  1.87622135]]\n"
     ]
    }
   ],
   "source": [
    "J_history, theta_optimized = logistic_regression_L1(X_train, y_train, theta, alpha, iterations, l1)\n",
    "print('Optimized cost is: ', J_history[-1])\n",
    "print('Optimized parameters are: ', theta_optimized)"
   ]
  },
  {
   "cell_type": "code",
   "execution_count": 11,
   "metadata": {
    "colab": {
     "base_uri": "https://localhost:8080/",
     "height": 472
    },
    "id": "PfMUdjI1Rs_9",
    "outputId": "941b4d87-9d28-4dc9-e661-f71c3fd58cee"
   },
   "outputs": [
    {
     "data": {
      "image/png": "[encoded data removed]",
      "text/plain": [
       "<Figure size 640x480 with 1 Axes>"
      ]
     },
     "metadata": {},
     "output_type": "display_data"
    }
   ],
   "source": [
    "plt.plot(J_history)\n",
    "plt.xlabel('Iteration')\n",
    "plt.ylabel('$J(\\Theta)$')\n",
    "plt.title('Cost function using Gradient Descent with L1 regularization')\n",
    "plt.show()"
   ]
  },
  {
   "cell_type": "code",
   "execution_count": 14,
   "metadata": {
    "colab": {
     "base_uri": "https://localhost:8080/"
    },
    "id": "CKVeQQoYRwIK",
    "outputId": "e94a3d7b-c9b1-46be-f2a7-39ce1874e81f"
   },
   "outputs": [
    {
     "name": "stdout",
     "output_type": "stream",
     "text": [
      "Accuracy: 100.0 %\n"
     ]
    }
   ],
   "source": [
    "y_pred = predict(X_test, theta_optimized)\n",
    "print('Accuracy: {} %'.format(100 * np.sum(y_pred == y_test) / len(y_test)))"
   ]
  }
 ],
 "metadata": {
  "colab": {
   "provenance": []
  },
  "kernelspec": {
   "display_name": "Python 3 (ipykernel)",
   "language": "python",
   "name": "python3"
  },
  "language_info": {
   "codemirror_mode": {
    "name": "ipython",
    "version": 3
   },
   "file_extension": ".py",
   "mimetype": "text/x-python",
   "name": "python",
   "nbconvert_exporter": "python",
   "pygments_lexer": "ipython3",
   "version": "3.11.2"
  }
 },
 "nbformat": 4,
 "nbformat_minor": 1
}
