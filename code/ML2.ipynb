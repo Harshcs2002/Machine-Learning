{
 "cells": [
  {
   "cell_type": "markdown",
   "metadata": {
    "id": "NNJmXbSnsf9T"
   },
   "source": [
    "# 2 Perform elementary logical operations in Octave/MATLAB/R/Python (like OR, AND, Checking for Equality, NOT, XOR)."
   ]
  },
  {
   "cell_type": "code",
   "execution_count": 3,
   "metadata": {
    "colab": {
     "base_uri": "https://localhost:8080/"
    },
    "executionInfo": {
     "elapsed": 613,
     "status": "ok",
     "timestamp": 1682598782685,
     "user": {
      "displayName": "HARSH JAISWAL",
      "userId": "13666398703787919506"
     },
     "user_tz": -330
    },
    "id": "moI68f5esrso",
    "outputId": "0dcd2997-ac2b-4817-a759-d24fd2aaad41"
   },
   "outputs": [
    {
     "data": {
      "text/plain": [
       "True"
      ]
     },
     "execution_count": 3,
     "metadata": {},
     "output_type": "execute_result"
    }
   ],
   "source": [
    "# OR\n",
    "True | False"
   ]
  },
  {
   "cell_type": "code",
   "execution_count": 4,
   "metadata": {
    "colab": {
     "base_uri": "https://localhost:8080/"
    },
    "executionInfo": {
     "elapsed": 21,
     "status": "ok",
     "timestamp": 1682598789121,
     "user": {
      "displayName": "HARSH JAISWAL",
      "userId": "13666398703787919506"
     },
     "user_tz": -330
    },
    "id": "a0wFwT3Xs2tz",
    "outputId": "42eccce1-0b49-436c-c5f1-519523144d83"
   },
   "outputs": [
    {
     "data": {
      "text/plain": [
       "False"
      ]
     },
     "execution_count": 4,
     "metadata": {},
     "output_type": "execute_result"
    }
   ],
   "source": [
    "# AND\n",
    "True & False"
   ]
  },
  {
   "cell_type": "code",
   "execution_count": 5,
   "metadata": {
    "colab": {
     "base_uri": "https://localhost:8080/"
    },
    "executionInfo": {
     "elapsed": 630,
     "status": "ok",
     "timestamp": 1682598826401,
     "user": {
      "displayName": "HARSH JAISWAL",
      "userId": "13666398703787919506"
     },
     "user_tz": -330
    },
    "id": "QaawjuLjtAU0",
    "outputId": "991d105b-bef2-45ce-fa57-534457f0b908"
   },
   "outputs": [
    {
     "data": {
      "text/plain": [
       "False"
      ]
     },
     "execution_count": 5,
     "metadata": {},
     "output_type": "execute_result"
    }
   ],
   "source": [
    " # Check for inequality\n",
    "True == False"
   ]
  },
  {
   "cell_type": "code",
   "execution_count": 6,
   "metadata": {
    "colab": {
     "base_uri": "https://localhost:8080/"
    },
    "executionInfo": {
     "elapsed": 627,
     "status": "ok",
     "timestamp": 1682598844927,
     "user": {
      "displayName": "HARSH JAISWAL",
      "userId": "13666398703787919506"
     },
     "user_tz": -330
    },
    "id": "Cqp2oBVrtJJ1",
    "outputId": "9058fd77-cefc-45d4-c3ee-0d300aee6399"
   },
   "outputs": [
    {
     "data": {
      "text/plain": [
       "-2"
      ]
     },
     "execution_count": 6,
     "metadata": {},
     "output_type": "execute_result"
    }
   ],
   "source": [
    "# NOT\n",
    "~True"
   ]
  },
  {
   "cell_type": "code",
   "execution_count": 7,
   "metadata": {
    "colab": {
     "base_uri": "https://localhost:8080/"
    },
    "executionInfo": {
     "elapsed": 40,
     "status": "ok",
     "timestamp": 1682598888294,
     "user": {
      "displayName": "HARSH JAISWAL",
      "userId": "13666398703787919506"
     },
     "user_tz": -330
    },
    "id": "W5cZ5re6tM6h",
    "outputId": "c7384e78-a60e-4e49-a081-61f302946035"
   },
   "outputs": [
    {
     "name": "stdout",
     "output_type": "stream",
     "text": [
      "False\n",
      "True\n"
     ]
    }
   ],
   "source": [
    "# XOR\n",
    "print(True ^ True)\n",
    "print(True ^ False)"
   ]
  }
 ],
 "metadata": {
  "colab": {
   "authorship_tag": "ABX9TyPl7yJ9AmzPwU+L93XJu076",
   "provenance": []
  },
  "kernelspec": {
   "display_name": "Python 3 (ipykernel)",
   "language": "python",
   "name": "python3"
  },
  "language_info": {
   "codemirror_mode": {
    "name": "ipython",
    "version": 3
   },
   "file_extension": ".py",
   "mimetype": "text/x-python",
   "name": "python",
   "nbconvert_exporter": "python",
   "pygments_lexer": "ipython3",
   "version": "3.11.2"
  }
 },
 "nbformat": 4,
 "nbformat_minor": 1
}
