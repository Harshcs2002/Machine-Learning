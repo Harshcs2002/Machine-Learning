{
 "cells": [
  {
   "cell_type": "markdown",
   "metadata": {
    "id": "RoRmEFvS3YMh"
   },
   "source": [
    "# 11 Perform vectorized implementation of simple matrix operation like finding the transpose of a matrix, adding, subtracting or multiplying two matrices."
   ]
  },
  {
   "cell_type": "code",
   "execution_count": 1,
   "metadata": {
    "colab": {
     "base_uri": "https://localhost:8080/"
    },
    "executionInfo": {
     "elapsed": 48,
     "status": "ok",
     "timestamp": 1682601734301,
     "user": {
      "displayName": "HARSH JAISWAL",
      "userId": "13666398703787919506"
     },
     "user_tz": -330
    },
    "id": "7HXjSS3_4DGy",
    "outputId": "75cc518b-857e-4402-dccb-5bc6e4ca70da"
   },
   "outputs": [
    {
     "name": "stdout",
     "output_type": "stream",
     "text": [
      "A = \n",
      " [[  3   6   9]\n",
      " [  5 -10  15]\n",
      " [ -7  14  21]] \n",
      "B = \n",
      " [[  9 -18  27]\n",
      " [ 11  22  33]\n",
      " [ 13 -26  39]]\n"
     ]
    }
   ],
   "source": [
    "import numpy as np\n",
    "A = np.array([[3, 6, 9], [5, -10, 15], [-7, 14, 21]])\n",
    "B = np.array([[9, -18, 27], [11, 22, 33], [13, -26, 39]])\n",
    "print(\"A = \\n\", A, \"\\nB = \\n\", B)"
   ]
  },
  {
   "cell_type": "code",
   "execution_count": 2,
   "metadata": {
    "colab": {
     "base_uri": "https://localhost:8080/"
    },
    "executionInfo": {
     "elapsed": 38,
     "status": "ok",
     "timestamp": 1682601734310,
     "user": {
      "displayName": "HARSH JAISWAL",
      "userId": "13666398703787919506"
     },
     "user_tz": -330
    },
    "id": "npihp_Py4Juj",
    "outputId": "862263da-4b91-423b-f563-6b97a61d19de"
   },
   "outputs": [
    {
     "data": {
      "text/plain": [
       "array([[ 12, -12,  36],\n",
       "       [ 16,  12,  48],\n",
       "       [  6, -12,  60]])"
      ]
     },
     "execution_count": 2,
     "metadata": {},
     "output_type": "execute_result"
    }
   ],
   "source": [
    "# Addition\n",
    "A + B"
   ]
  },
  {
   "cell_type": "code",
   "execution_count": 3,
   "metadata": {
    "colab": {
     "base_uri": "https://localhost:8080/"
    },
    "executionInfo": {
     "elapsed": 13,
     "status": "ok",
     "timestamp": 1682601756593,
     "user": {
      "displayName": "HARSH JAISWAL",
      "userId": "13666398703787919506"
     },
     "user_tz": -330
    },
    "id": "BJkILfba4Poi",
    "outputId": "5f36ab70-d7ea-46e4-e636-2801d14f24bb"
   },
   "outputs": [
    {
     "data": {
      "text/plain": [
       "array([[ -6,  24, -18],\n",
       "       [ -6, -32, -18],\n",
       "       [-20,  40, -18]])"
      ]
     },
     "execution_count": 3,
     "metadata": {},
     "output_type": "execute_result"
    }
   ],
   "source": [
    "# Subtraction\n",
    "A - B"
   ]
  },
  {
   "cell_type": "code",
   "execution_count": 4,
   "metadata": {
    "colab": {
     "base_uri": "https://localhost:8080/"
    },
    "executionInfo": {
     "elapsed": 19,
     "status": "ok",
     "timestamp": 1682601768450,
     "user": {
      "displayName": "HARSH JAISWAL",
      "userId": "13666398703787919506"
     },
     "user_tz": -330
    },
    "id": "7H8d3_qX4UYz",
    "outputId": "03e2377e-c1e0-4a7b-cbb4-139e1d895f5a"
   },
   "outputs": [
    {
     "data": {
      "text/plain": [
       "array([[ 210, -156,  630],\n",
       "       [ 130, -700,  390],\n",
       "       [ 364, -112, 1092]])"
      ]
     },
     "execution_count": 4,
     "metadata": {},
     "output_type": "execute_result"
    }
   ],
   "source": [
    "# Multiplication\n",
    "A @ B"
   ]
  },
  {
   "cell_type": "code",
   "execution_count": 5,
   "metadata": {
    "colab": {
     "base_uri": "https://localhost:8080/"
    },
    "executionInfo": {
     "elapsed": 29,
     "status": "ok",
     "timestamp": 1682601781094,
     "user": {
      "displayName": "HARSH JAISWAL",
      "userId": "13666398703787919506"
     },
     "user_tz": -330
    },
    "id": "QzYy_Fmg4W4g",
    "outputId": "ce813a24-9e15-42f1-ffc1-1a7c95bdc4b4"
   },
   "outputs": [
    {
     "name": "stdout",
     "output_type": "stream",
     "text": [
      "A' = \n",
      " [[  3   5  -7]\n",
      " [  6 -10  14]\n",
      " [  9  15  21]] \n",
      "B' = \n",
      " [[  9  11  13]\n",
      " [-18  22 -26]\n",
      " [ 27  33  39]]\n"
     ]
    }
   ],
   "source": [
    "# Transpose\n",
    "print(\"A' = \\n\", np.transpose(A),\n",
    "\"\\nB' = \\n\", np.transpose(B))"
   ]
  }
 ],
 "metadata": {
  "colab": {
   "authorship_tag": "ABX9TyNywsuO0qL6AnQVG2CI1H0H",
   "provenance": []
  },
  "kernelspec": {
   "display_name": "Python 3 (ipykernel)",
   "language": "python",
   "name": "python3"
  },
  "language_info": {
   "codemirror_mode": {
    "name": "ipython",
    "version": 3
   },
   "file_extension": ".py",
   "mimetype": "text/x-python",
   "name": "python",
   "nbconvert_exporter": "python",
   "pygments_lexer": "ipython3",
   "version": "3.11.2"
  }
 },
 "nbformat": 4,
 "nbformat_minor": 1
}
