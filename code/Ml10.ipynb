{
 "cells": [
  {
   "cell_type": "markdown",
   "metadata": {
    "id": "o5dpser8LWgi"
   },
   "source": [
    "# 10 Use conditional statements and different type of loops based on simple example/s"
   ]
  },
  {
   "cell_type": "code",
   "execution_count": 1,
   "metadata": {
    "colab": {
     "base_uri": "https://localhost:8080/",
     "height": 36
    },
    "id": "8q4GHKtKLT8f",
    "outputId": "55d9e1bc-6388-4efa-90d8-c81064e29922"
   },
   "outputs": [
    {
     "data": {
      "application/vnd.google.colaboratory.intrinsic+json": {
       "type": "string"
      },
      "text/plain": [
       "'A'"
      ]
     },
     "execution_count": 1,
     "metadata": {},
     "output_type": "execute_result"
    }
   ],
   "source": [
    "#if - elif - else\n",
    "grade = None\n",
    "marks = 90\n",
    "if marks >= 95:\n",
    " grade = 'A+'\n",
    "elif marks >= 90:\n",
    " grade = 'A'\n",
    "elif marks >= 80:\n",
    " grade = 'B'\n",
    "elif marks >= 75:\n",
    " grade = 'C'\n",
    "elif marks >= 65:\n",
    " grade = 'D'\n",
    "else:\n",
    " grade = 'F'\n",
    "grade"
   ]
  },
  {
   "cell_type": "code",
   "execution_count": 16,
   "metadata": {
    "colab": {
     "base_uri": "https://localhost:8080/"
    },
    "id": "mWxYkHtEMWV7",
    "outputId": "3e880fb6-504a-4c5c-fa14-d34f0e4ab59b"
   },
   "outputs": [
    {
     "name": "stdout",
     "output_type": "stream",
     "text": [
      "1\n",
      "2\n",
      "3\n"
     ]
    }
   ],
   "source": [
    "# while loop\n",
    "i = 1\n",
    "while i < 6:\n",
    "     print(i)\n",
    "     if i == 3:\n",
    "       break\n",
    "     i = i+ 1"
   ]
  },
  {
   "cell_type": "code",
   "execution_count": 18,
   "metadata": {
    "colab": {
     "base_uri": "https://localhost:8080/"
    },
    "id": "84bE9AK_NCqT",
    "outputId": "ddf73a36-8db8-4244-88c9-fe04b8dc6f0a"
   },
   "outputs": [
    {
     "name": "stdout",
     "output_type": "stream",
     "text": [
      "apple\n",
      "cherry\n",
      "banana\n"
     ]
    }
   ],
   "source": [
    "# for loop\n",
    "fruits = [\"apple\", \"cherry\", \"banana\"]\n",
    "for x in fruits:\n",
    "   print(x)\n",
    "   if x == \"banana\":\n",
    "    break"
   ]
  }
 ],
 "metadata": {
  "colab": {
   "provenance": []
  },
  "kernelspec": {
   "display_name": "Python 3 (ipykernel)",
   "language": "python",
   "name": "python3"
  },
  "language_info": {
   "codemirror_mode": {
    "name": "ipython",
    "version": 3
   },
   "file_extension": ".py",
   "mimetype": "text/x-python",
   "name": "python",
   "nbconvert_exporter": "python",
   "pygments_lexer": "ipython3",
   "version": "3.11.2"
  }
 },
 "nbformat": 4,
 "nbformat_minor": 1
}
