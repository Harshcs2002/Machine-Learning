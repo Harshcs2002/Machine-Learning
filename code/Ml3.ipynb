{
 "cells": [
  {
   "cell_type": "markdown",
   "metadata": {
    "id": "If9nPFDmtoA7"
   },
   "source": [
    "# 3 Create, initialize and display simple variables and simple strings and use simple formatting for variable."
   ]
  },
  {
   "cell_type": "code",
   "execution_count": 1,
   "metadata": {
    "executionInfo": {
     "elapsed": 1380,
     "status": "ok",
     "timestamp": 1682599047252,
     "user": {
      "displayName": "HARSH JAISWAL",
      "userId": "13666398703787919506"
     },
     "user_tz": -330
    },
    "id": "lnC-JqOqt4Er"
   },
   "outputs": [],
   "source": [
    "# Creating and initializing a variable\n",
    "a = 5\n",
    "x1 = 10\n",
    "x2 = 20\n",
    "name = \"Harsh\""
   ]
  },
  {
   "cell_type": "code",
   "execution_count": 2,
   "metadata": {
    "colab": {
     "base_uri": "https://localhost:8080/"
    },
    "executionInfo": {
     "elapsed": 1905,
     "status": "ok",
     "timestamp": 1682599241739,
     "user": {
      "displayName": "HARSH JAISWAL",
      "userId": "13666398703787919506"
     },
     "user_tz": -330
    },
    "id": "Y_nMMA1Buqof",
    "outputId": "abe2a71d-4311-498f-9f77-cb1a65fef358"
   },
   "outputs": [
    {
     "name": "stdout",
     "output_type": "stream",
     "text": [
      "5\n",
      "10\n",
      "20\n",
      "Harsh\n"
     ]
    }
   ],
   "source": [
    "# Displaying variables\n",
    "print(a)\n",
    "print(x1)\n",
    "print(x2)\n",
    "print(name)"
   ]
  }
 ],
 "metadata": {
  "colab": {
   "authorship_tag": "ABX9TyNC3nCB9CqP1TOEC/kwZpOx",
   "provenance": []
  },
  "kernelspec": {
   "display_name": "Python 3 (ipykernel)",
   "language": "python",
   "name": "python3"
  },
  "language_info": {
   "codemirror_mode": {
    "name": "ipython",
    "version": 3
   },
   "file_extension": ".py",
   "mimetype": "text/x-python",
   "name": "python",
   "nbconvert_exporter": "python",
   "pygments_lexer": "ipython3",
   "version": "3.11.2"
  }
 },
 "nbformat": 4,
 "nbformat_minor": 1
}
