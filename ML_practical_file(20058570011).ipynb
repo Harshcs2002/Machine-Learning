{
  "nbformat": 4,
  "nbformat_minor": 0,
  "metadata": {
    "colab": {
      "provenance": []
    },
    "kernelspec": {
      "name": "python3",
      "display_name": "Python 3"
    },
    "language_info": {
      "name": "python"
    }
  },
  "cells": [
    {
      "cell_type": "markdown",
      "source": [
        "# 12. Implement Linear Regression problem. For example, based on a dataset comprising of existing set of prices and area/size of the houses,predict the estimated price of a given house."
      ],
      "metadata": {
        "id": "RUhPg0x7Ccrz"
      }
    },
    {
      "cell_type": "code",
      "execution_count": 124,
      "metadata": {
        "id": "u2x9iBD3WbB0"
      },
      "outputs": [],
      "source": [
        "import numpy as np\n",
        "import matplotlib.pyplot as plt\n",
        "import pandas as pd"
      ]
    },
    {
      "cell_type": "code",
      "source": [
        "dataset = pd.read_csv('/content/houseprices.csv')\n",
        "dataset.head()"
      ],
      "metadata": {
        "colab": {
          "base_uri": "https://localhost:8080/",
          "height": 206
        },
        "id": "F9DASewBWkvK",
        "outputId": "c8090126-7973-430a-b07a-24806d7f2b0c"
      },
      "execution_count": 125,
      "outputs": [
        {
          "output_type": "execute_result",
          "data": {
            "text/plain": [
              "         Area         Price\n",
              "0  372.504664  17648.708613\n",
              "1  161.218544   7606.327793\n",
              "2  844.815263  42227.733081\n",
              "3  550.770094  27571.592292\n",
              "4  499.007442  24372.488520"
            ],
            "text/html": [
              "\n",
              "  <div id=\"df-60a62daf-4ffc-4f39-b796-574e6fc29bdc\">\n",
              "    <div class=\"colab-df-container\">\n",
              "      <div>\n",
              "<style scoped>\n",
              "    .dataframe tbody tr th:only-of-type {\n",
              "        vertical-align: middle;\n",
              "    }\n",
              "\n",
              "    .dataframe tbody tr th {\n",
              "        vertical-align: top;\n",
              "    }\n",
              "\n",
              "    .dataframe thead th {\n",
              "        text-align: right;\n",
              "    }\n",
              "</style>\n",
              "<table border=\"1\" class=\"dataframe\">\n",
              "  <thead>\n",
              "    <tr style=\"text-align: right;\">\n",
              "      <th></th>\n",
              "      <th>Area</th>\n",
              "      <th>Price</th>\n",
              "    </tr>\n",
              "  </thead>\n",
              "  <tbody>\n",
              "    <tr>\n",
              "      <th>0</th>\n",
              "      <td>372.504664</td>\n",
              "      <td>17648.708613</td>\n",
              "    </tr>\n",
              "    <tr>\n",
              "      <th>1</th>\n",
              "      <td>161.218544</td>\n",
              "      <td>7606.327793</td>\n",
              "    </tr>\n",
              "    <tr>\n",
              "      <th>2</th>\n",
              "      <td>844.815263</td>\n",
              "      <td>42227.733081</td>\n",
              "    </tr>\n",
              "    <tr>\n",
              "      <th>3</th>\n",
              "      <td>550.770094</td>\n",
              "      <td>27571.592292</td>\n",
              "    </tr>\n",
              "    <tr>\n",
              "      <th>4</th>\n",
              "      <td>499.007442</td>\n",
              "      <td>24372.488520</td>\n",
              "    </tr>\n",
              "  </tbody>\n",
              "</table>\n",
              "</div>\n",
              "      <button class=\"colab-df-convert\" onclick=\"convertToInteractive('df-60a62daf-4ffc-4f39-b796-574e6fc29bdc')\"\n",
              "              title=\"Convert this dataframe to an interactive table.\"\n",
              "              style=\"display:none;\">\n",
              "        \n",
              "  <svg xmlns=\"http://www.w3.org/2000/svg\" height=\"24px\"viewBox=\"0 0 24 24\"\n",
              "       width=\"24px\">\n",
              "    <path d=\"M0 0h24v24H0V0z\" fill=\"none\"/>\n",
              "    <path d=\"M18.56 5.44l.94 2.06.94-2.06 2.06-.94-2.06-.94-.94-2.06-.94 2.06-2.06.94zm-11 1L8.5 8.5l.94-2.06 2.06-.94-2.06-.94L8.5 2.5l-.94 2.06-2.06.94zm10 10l.94 2.06.94-2.06 2.06-.94-2.06-.94-.94-2.06-.94 2.06-2.06.94z\"/><path d=\"M17.41 7.96l-1.37-1.37c-.4-.4-.92-.59-1.43-.59-.52 0-1.04.2-1.43.59L10.3 9.45l-7.72 7.72c-.78.78-.78 2.05 0 2.83L4 21.41c.39.39.9.59 1.41.59.51 0 1.02-.2 1.41-.59l7.78-7.78 2.81-2.81c.8-.78.8-2.07 0-2.86zM5.41 20L4 18.59l7.72-7.72 1.47 1.35L5.41 20z\"/>\n",
              "  </svg>\n",
              "      </button>\n",
              "      \n",
              "  <style>\n",
              "    .colab-df-container {\n",
              "      display:flex;\n",
              "      flex-wrap:wrap;\n",
              "      gap: 12px;\n",
              "    }\n",
              "\n",
              "    .colab-df-convert {\n",
              "      background-color: #E8F0FE;\n",
              "      border: none;\n",
              "      border-radius: 50%;\n",
              "      cursor: pointer;\n",
              "      display: none;\n",
              "      fill: #1967D2;\n",
              "      height: 32px;\n",
              "      padding: 0 0 0 0;\n",
              "      width: 32px;\n",
              "    }\n",
              "\n",
              "    .colab-df-convert:hover {\n",
              "      background-color: #E2EBFA;\n",
              "      box-shadow: 0px 1px 2px rgba(60, 64, 67, 0.3), 0px 1px 3px 1px rgba(60, 64, 67, 0.15);\n",
              "      fill: #174EA6;\n",
              "    }\n",
              "\n",
              "    [theme=dark] .colab-df-convert {\n",
              "      background-color: #3B4455;\n",
              "      fill: #D2E3FC;\n",
              "    }\n",
              "\n",
              "    [theme=dark] .colab-df-convert:hover {\n",
              "      background-color: #434B5C;\n",
              "      box-shadow: 0px 1px 3px 1px rgba(0, 0, 0, 0.15);\n",
              "      filter: drop-shadow(0px 1px 2px rgba(0, 0, 0, 0.3));\n",
              "      fill: #FFFFFF;\n",
              "    }\n",
              "  </style>\n",
              "\n",
              "      <script>\n",
              "        const buttonEl =\n",
              "          document.querySelector('#df-60a62daf-4ffc-4f39-b796-574e6fc29bdc button.colab-df-convert');\n",
              "        buttonEl.style.display =\n",
              "          google.colab.kernel.accessAllowed ? 'block' : 'none';\n",
              "\n",
              "        async function convertToInteractive(key) {\n",
              "          const element = document.querySelector('#df-60a62daf-4ffc-4f39-b796-574e6fc29bdc');\n",
              "          const dataTable =\n",
              "            await google.colab.kernel.invokeFunction('convertToInteractive',\n",
              "                                                     [key], {});\n",
              "          if (!dataTable) return;\n",
              "\n",
              "          const docLinkHtml = 'Like what you see? Visit the ' +\n",
              "            '<a target=\"_blank\" href=https://colab.research.google.com/notebooks/data_table.ipynb>data table notebook</a>'\n",
              "            + ' to learn more about interactive tables.';\n",
              "          element.innerHTML = '';\n",
              "          dataTable['output_type'] = 'display_data';\n",
              "          await google.colab.output.renderOutput(dataTable, element);\n",
              "          const docLink = document.createElement('div');\n",
              "          docLink.innerHTML = docLinkHtml;\n",
              "          element.appendChild(docLink);\n",
              "        }\n",
              "      </script>\n",
              "    </div>\n",
              "  </div>\n",
              "  "
            ]
          },
          "metadata": {},
          "execution_count": 125
        }
      ]
    },
    {
      "cell_type": "code",
      "source": [
        "X = dataset.iloc[:, :-1].values\n",
        "y = dataset.iloc[:, -1].values"
      ],
      "metadata": {
        "id": "IdHS_LgwWuQY"
      },
      "execution_count": 126,
      "outputs": []
    },
    {
      "cell_type": "code",
      "source": [
        "from sklearn.model_selection import train_test_split\n",
        "X_train, X_test, y_train, y_test = train_test_split(X, y, test_size = 1/3, random_state = 0)"
      ],
      "metadata": {
        "id": "qg072sdEW3UB"
      },
      "execution_count": 127,
      "outputs": []
    },
    {
      "cell_type": "code",
      "source": [
        "print(len(X_train),len(y_train),  len(X_test), len(y_test))"
      ],
      "metadata": {
        "colab": {
          "base_uri": "https://localhost:8080/"
        },
        "id": "V5lWRTqyXMCt",
        "outputId": "39313e44-d25f-46e1-d90e-b7e0f7510360"
      },
      "execution_count": 128,
      "outputs": [
        {
          "output_type": "stream",
          "name": "stdout",
          "text": [
            "33 33 17 17\n"
          ]
        }
      ]
    },
    {
      "cell_type": "code",
      "source": [
        "class LinearRegression:\n",
        "    def __init__(self):\n",
        "        self.m = None\n",
        "        self.b = None\n",
        "        \n",
        "    def fit(self,X_train,y_train):\n",
        "        \n",
        "        num = 0\n",
        "        den = 0\n",
        "        \n",
        "        for i in range(X_train.shape[0]):\n",
        "            \n",
        "            num = num + ((X_train[i] - X_train.mean())*(y_train[i] - y_train.mean()))\n",
        "            den = den + ((X_train[i] - X_train.mean())*(X_train[i] - X_train.mean()))\n",
        "        \n",
        "        self.m = num/den\n",
        "        self.b = y_train.mean() - (self.m * X_train.mean())\n",
        "        print('m is ',self.m)\n",
        "        print('b is ',self.b)       \n",
        "    \n",
        "    def predict(self,X_test):\n",
        "                \n",
        "        return self.m * X_test + self.b\n"
      ],
      "metadata": {
        "id": "HZu68DJUXDFV"
      },
      "execution_count": 129,
      "outputs": []
    },
    {
      "cell_type": "code",
      "source": [
        "regressor = LinearRegression()\n"
      ],
      "metadata": {
        "id": "6VrOj03oXuhZ"
      },
      "execution_count": 130,
      "outputs": []
    },
    {
      "cell_type": "code",
      "source": [
        "regressor.fit(X_train,y_train)"
      ],
      "metadata": {
        "colab": {
          "base_uri": "https://localhost:8080/"
        },
        "id": "qXj8ZX5qX5O0",
        "outputId": "d0472b3b-671e-4345-a9c8-d65d21be2114"
      },
      "execution_count": 131,
      "outputs": [
        {
          "output_type": "stream",
          "name": "stdout",
          "text": [
            "m is  [49.97975739]\n",
            "b is  [-12.9740026]\n"
          ]
        }
      ]
    },
    {
      "cell_type": "code",
      "source": [
        "y_pred = regressor.predict(X_test)"
      ],
      "metadata": {
        "id": "MQz0z6_6Z5F1"
      },
      "execution_count": 132,
      "outputs": []
    },
    {
      "cell_type": "code",
      "source": [
        "plt.scatter(X_train, y_train, color = 'red')\n",
        "plt.plot(X_train, regressor.predict(X_train), color = 'blue')\n",
        "plt.title('Training')\n",
        "plt.xlabel('area')\n",
        "plt.ylabel('price')"
      ],
      "metadata": {
        "colab": {
          "base_uri": "https://localhost:8080/",
          "height": 489
        },
        "id": "tdXNT16RZ8xq",
        "outputId": "acff9113-8851-4672-9ee1-2e8cceb10ce6"
      },
      "execution_count": 133,
      "outputs": [
        {
          "output_type": "execute_result",
          "data": {
            "text/plain": [
              "Text(0, 0.5, 'price')"
            ]
          },
          "metadata": {},
          "execution_count": 133
        },
        {
          "output_type": "display_data",
          "data": {
            "text/plain": [
              "<Figure size 640x480 with 1 Axes>"
            ],
            "image/png": "[encoded data removed]"
          },
          "metadata": {}
        }
      ]
    },
    {
      "cell_type": "code",
      "source": [
        "plt.scatter(X_test, y_test, color = 'red')\n",
        "plt.plot(X_test, y_pred, color = 'blue')\n",
        "plt.title('Testing')\n",
        "plt.xlabel('area')\n",
        "plt.ylabel('price')"
      ],
      "metadata": {
        "colab": {
          "base_uri": "https://localhost:8080/",
          "height": 489
        },
        "id": "tMBoxMeNaQ--",
        "outputId": "2874a896-c798-45da-cd27-2cbd9a55e2fb"
      },
      "execution_count": 134,
      "outputs": [
        {
          "output_type": "execute_result",
          "data": {
            "text/plain": [
              "Text(0, 0.5, 'price')"
            ]
          },
          "metadata": {},
          "execution_count": 134
        },
        {
          "output_type": "display_data",
          "data": {
            "text/plain": [
              "<Figure size 640x480 with 1 Axes>"
            ],
            "image/png": "[encoded data removed]"
          },
          "metadata": {}
        }
      ]
    },
    {
      "cell_type": "markdown",
      "source": [
        "# 13. Based on multiple features/variables perform Linear Regression. For example, based on a number of additional features like number of bedrooms, servant room, number of balconies,number of houses of years a house has been built – predict the price of a house.\n"
      ],
      "metadata": {
        "id": "e2j7Q8M6Cl5R"
      }
    },
    {
      "cell_type": "code",
      "source": [
        "import numpy as np\n",
        "import matplotlib.pyplot as plt\n",
        "import pandas as pd"
      ],
      "metadata": {
        "id": "27izk7Tunnq6"
      },
      "execution_count": 249,
      "outputs": []
    },
    {
      "cell_type": "code",
      "source": [
        "df = pd.read_csv('/content/homeprice.csv')\n",
        "X = df.iloc[:, :-1].values\n",
        "y = df.iloc[:, -1].values\n",
        "df.head()"
      ],
      "metadata": {
        "colab": {
          "base_uri": "https://localhost:8080/",
          "height": 206
        },
        "id": "kxvSTJc3oa7o",
        "outputId": "667a054f-f75f-476b-fac8-c21f4e50fae7"
      },
      "execution_count": 250,
      "outputs": [
        {
          "output_type": "execute_result",
          "data": {
            "text/plain": [
              "         Area  Bedrooms  Age         Price\n",
              "0  428.635645         5   15  21625.615922\n",
              "1  755.488839         2    1  37095.019710\n",
              "2  662.634921         3    3  33020.292816\n",
              "3  199.079204         2   20   8888.712606\n",
              "4  838.612265         5    2  42581.546034"
            ],
            "text/html": [
              "\n",
              "  <div id=\"df-82e0bf62-ea8c-4be8-b879-ffea8fe5d0f3\">\n",
              "    <div class=\"colab-df-container\">\n",
              "      <div>\n",
              "<style scoped>\n",
              "    .dataframe tbody tr th:only-of-type {\n",
              "        vertical-align: middle;\n",
              "    }\n",
              "\n",
              "    .dataframe tbody tr th {\n",
              "        vertical-align: top;\n",
              "    }\n",
              "\n",
              "    .dataframe thead th {\n",
              "        text-align: right;\n",
              "    }\n",
              "</style>\n",
              "<table border=\"1\" class=\"dataframe\">\n",
              "  <thead>\n",
              "    <tr style=\"text-align: right;\">\n",
              "      <th></th>\n",
              "      <th>Area</th>\n",
              "      <th>Bedrooms</th>\n",
              "      <th>Age</th>\n",
              "      <th>Price</th>\n",
              "    </tr>\n",
              "  </thead>\n",
              "  <tbody>\n",
              "    <tr>\n",
              "      <th>0</th>\n",
              "      <td>428.635645</td>\n",
              "      <td>5</td>\n",
              "      <td>15</td>\n",
              "      <td>21625.615922</td>\n",
              "    </tr>\n",
              "    <tr>\n",
              "      <th>1</th>\n",
              "      <td>755.488839</td>\n",
              "      <td>2</td>\n",
              "      <td>1</td>\n",
              "      <td>37095.019710</td>\n",
              "    </tr>\n",
              "    <tr>\n",
              "      <th>2</th>\n",
              "      <td>662.634921</td>\n",
              "      <td>3</td>\n",
              "      <td>3</td>\n",
              "      <td>33020.292816</td>\n",
              "    </tr>\n",
              "    <tr>\n",
              "      <th>3</th>\n",
              "      <td>199.079204</td>\n",
              "      <td>2</td>\n",
              "      <td>20</td>\n",
              "      <td>8888.712606</td>\n",
              "    </tr>\n",
              "    <tr>\n",
              "      <th>4</th>\n",
              "      <td>838.612265</td>\n",
              "      <td>5</td>\n",
              "      <td>2</td>\n",
              "      <td>42581.546034</td>\n",
              "    </tr>\n",
              "  </tbody>\n",
              "</table>\n",
              "</div>\n",
              "      <button class=\"colab-df-convert\" onclick=\"convertToInteractive('df-82e0bf62-ea8c-4be8-b879-ffea8fe5d0f3')\"\n",
              "              title=\"Convert this dataframe to an interactive table.\"\n",
              "              style=\"display:none;\">\n",
              "        \n",
              "  <svg xmlns=\"http://www.w3.org/2000/svg\" height=\"24px\"viewBox=\"0 0 24 24\"\n",
              "       width=\"24px\">\n",
              "    <path d=\"M0 0h24v24H0V0z\" fill=\"none\"/>\n",
              "    <path d=\"M18.56 5.44l.94 2.06.94-2.06 2.06-.94-2.06-.94-.94-2.06-.94 2.06-2.06.94zm-11 1L8.5 8.5l.94-2.06 2.06-.94-2.06-.94L8.5 2.5l-.94 2.06-2.06.94zm10 10l.94 2.06.94-2.06 2.06-.94-2.06-.94-.94-2.06-.94 2.06-2.06.94z\"/><path d=\"M17.41 7.96l-1.37-1.37c-.4-.4-.92-.59-1.43-.59-.52 0-1.04.2-1.43.59L10.3 9.45l-7.72 7.72c-.78.78-.78 2.05 0 2.83L4 21.41c.39.39.9.59 1.41.59.51 0 1.02-.2 1.41-.59l7.78-7.78 2.81-2.81c.8-.78.8-2.07 0-2.86zM5.41 20L4 18.59l7.72-7.72 1.47 1.35L5.41 20z\"/>\n",
              "  </svg>\n",
              "      </button>\n",
              "      \n",
              "  <style>\n",
              "    .colab-df-container {\n",
              "      display:flex;\n",
              "      flex-wrap:wrap;\n",
              "      gap: 12px;\n",
              "    }\n",
              "\n",
              "    .colab-df-convert {\n",
              "      background-color: #E8F0FE;\n",
              "      border: none;\n",
              "      border-radius: 50%;\n",
              "      cursor: pointer;\n",
              "      display: none;\n",
              "      fill: #1967D2;\n",
              "      height: 32px;\n",
              "      padding: 0 0 0 0;\n",
              "      width: 32px;\n",
              "    }\n",
              "\n",
              "    .colab-df-convert:hover {\n",
              "      background-color: #E2EBFA;\n",
              "      box-shadow: 0px 1px 2px rgba(60, 64, 67, 0.3), 0px 1px 3px 1px rgba(60, 64, 67, 0.15);\n",
              "      fill: #174EA6;\n",
              "    }\n",
              "\n",
              "    [theme=dark] .colab-df-convert {\n",
              "      background-color: #3B4455;\n",
              "      fill: #D2E3FC;\n",
              "    }\n",
              "\n",
              "    [theme=dark] .colab-df-convert:hover {\n",
              "      background-color: #434B5C;\n",
              "      box-shadow: 0px 1px 3px 1px rgba(0, 0, 0, 0.15);\n",
              "      filter: drop-shadow(0px 1px 2px rgba(0, 0, 0, 0.3));\n",
              "      fill: #FFFFFF;\n",
              "    }\n",
              "  </style>\n",
              "\n",
              "      <script>\n",
              "        const buttonEl =\n",
              "          document.querySelector('#df-82e0bf62-ea8c-4be8-b879-ffea8fe5d0f3 button.colab-df-convert');\n",
              "        buttonEl.style.display =\n",
              "          google.colab.kernel.accessAllowed ? 'block' : 'none';\n",
              "\n",
              "        async function convertToInteractive(key) {\n",
              "          const element = document.querySelector('#df-82e0bf62-ea8c-4be8-b879-ffea8fe5d0f3');\n",
              "          const dataTable =\n",
              "            await google.colab.kernel.invokeFunction('convertToInteractive',\n",
              "                                                     [key], {});\n",
              "          if (!dataTable) return;\n",
              "\n",
              "          const docLinkHtml = 'Like what you see? Visit the ' +\n",
              "            '<a target=\"_blank\" href=https://colab.research.google.com/notebooks/data_table.ipynb>data table notebook</a>'\n",
              "            + ' to learn more about interactive tables.';\n",
              "          element.innerHTML = '';\n",
              "          dataTable['output_type'] = 'display_data';\n",
              "          await google.colab.output.renderOutput(dataTable, element);\n",
              "          const docLink = document.createElement('div');\n",
              "          docLink.innerHTML = docLinkHtml;\n",
              "          element.appendChild(docLink);\n",
              "        }\n",
              "      </script>\n",
              "    </div>\n",
              "  </div>\n",
              "  "
            ]
          },
          "metadata": {},
          "execution_count": 250
        }
      ]
    },
    {
      "cell_type": "code",
      "source": [
        "from sklearn.model_selection import train_test_split\n",
        "X_train, X_test, y_train, y_test = train_test_split(X, y, test_size=0.2, random_state=0)"
      ],
      "metadata": {
        "id": "y5keOgxLomr-"
      },
      "execution_count": 251,
      "outputs": []
    },
    {
      "cell_type": "code",
      "source": [
        "print(len(X_train),len(y_train),  len(X_test), len(y_test))"
      ],
      "metadata": {
        "colab": {
          "base_uri": "https://localhost:8080/"
        },
        "id": "BKcNph4Notcu",
        "outputId": "02d6e97d-35ad-4071-ad2b-64ca5a714f91"
      },
      "execution_count": 252,
      "outputs": [
        {
          "output_type": "stream",
          "name": "stdout",
          "text": [
            "40 40 10 10\n"
          ]
        }
      ]
    },
    {
      "cell_type": "code",
      "source": [
        "class MultipleLayerFeatureLinearRegression:\n",
        "    def __init__(self):\n",
        "         self.coef_ = None\n",
        "         self.intercept_ = None\n",
        "         \n",
        "    def fit(self,X_train,y_train):\n",
        "         X_train = np.insert(X_train,0,1,axis=1)\n",
        "         \n",
        "         # calcuate the coeffs\n",
        "         betas = np.linalg.inv(np.dot(X_train.T,X_train)).dot(X_train.T).dot(y_train)\n",
        "         self.intercept_ = betas[0]\n",
        "         self.coef_ = betas[1:]\n",
        "         print('Intercept is ',self.intercept_,' Cofficient are ',self.coef_)\n",
        "     \n",
        "    def predict(self,X_test):\n",
        "         y_pred = np.dot(X_test,self.coef_) + self.intercept_\n",
        "         return y_pred"
      ],
      "metadata": {
        "id": "_nzCXPplots-"
      },
      "execution_count": 253,
      "outputs": []
    },
    {
      "cell_type": "code",
      "source": [
        "model = MultipleLayerFeatureLinearRegression()\n",
        "model.fit(X_train, y_train)"
      ],
      "metadata": {
        "colab": {
          "base_uri": "https://localhost:8080/"
        },
        "id": "1gJYg8XUpLXH",
        "outputId": "70b5b019-3202-4c70-b9db-674b3f27640b"
      },
      "execution_count": 254,
      "outputs": [
        {
          "output_type": "stream",
          "name": "stdout",
          "text": [
            "Intercept is  48.33983123107282  Cofficient are  [ 50.03920782 139.40047365 -72.85144255]\n"
          ]
        }
      ]
    },
    {
      "cell_type": "code",
      "source": [
        "y_pred = model.predict(X_test)"
      ],
      "metadata": {
        "id": "G00to1q2pYfc"
      },
      "execution_count": 255,
      "outputs": []
    },
    {
      "cell_type": "code",
      "source": [
        "fig, (ax1, ax2, ax3) = plt.subplots(1, 3, figsize=(15, 5))\n",
        "\n",
        "ax1.scatter(df['Area'], df['Price'])\n",
        "ax1.set_xlabel('Area')\n",
        "ax1.set_ylabel('Price')\n",
        "ax1.set_title('Area vs Price')\n",
        "\n",
        "ax2.scatter(df['Bedrooms'], df['Price'])\n",
        "ax2.set_xlabel('Bedrooms')\n",
        "ax2.set_ylabel('Price')\n",
        "ax2.set_title('Bedrooms vs Price')\n",
        "\n",
        "ax3.scatter(df['Age'], df['Price'])\n",
        "ax3.set_xlabel('Age')\n",
        "ax3.set_ylabel('Price')\n",
        "ax3.set_title('Age vs Price')\n",
        "\n",
        "plt.show()"
      ],
      "metadata": {
        "colab": {
          "base_uri": "https://localhost:8080/",
          "height": 487
        },
        "id": "5PSHhezAphCK",
        "outputId": "8f2f5435-d0f6-4099-ee50-4d4f9172ce07"
      },
      "execution_count": 256,
      "outputs": [
        {
          "output_type": "display_data",
          "data": {
            "text/plain": [
              "<Figure size 1500x500 with 3 Axes>"
            ],
            "image/png": "[encoded data removed]"
          },
          "metadata": {}
        }
      ]
    },
    {
      "cell_type": "code",
      "source": [
        "plt.scatter(y_test, y_pred)\n",
        "plt.plot([y_test.min(), y_test.max()], [y_test.min(), y_test.max()], 'k--', lw=3)\n",
        "plt.xlabel('Actual Price')\n",
        "plt.ylabel('Predicted Price')\n",
        "plt.title('Predicted vs Actual Price on Test Set')\n",
        "\n",
        "# Display the plot\n",
        "plt.show()"
      ],
      "metadata": {
        "colab": {
          "base_uri": "https://localhost:8080/",
          "height": 472
        },
        "id": "dA0C7Hy3sNwE",
        "outputId": "92b64ca7-5dc1-4861-f930-ee67bd8a1b9a"
      },
      "execution_count": 257,
      "outputs": [
        {
          "output_type": "display_data",
          "data": {
            "text/plain": [
              "<Figure size 640x480 with 1 Axes>"
            ],
            "image/png": "[encoded data removed]"
          },
          "metadata": {}
        }
      ]
    },
    {
      "cell_type": "markdown",
      "source": [
        "# 14.Implement a classification/ logistic regression problem. For example based on different features of students data, classify, whether a student is suitable for a particular activity. Based on the available dataset, a student can also implement another classification problem like checking whether an email is spam or not."
      ],
      "metadata": {
        "id": "Fg16BIqQC2xn"
      }
    },
    {
      "cell_type": "code",
      "source": [
        "import numpy as np\n",
        "import matplotlib.pyplot as plt\n",
        "import pandas as pd"
      ],
      "metadata": {
        "id": "CTaTLA-btIF6"
      },
      "execution_count": 159,
      "outputs": []
    },
    {
      "cell_type": "code",
      "source": [
        "data = pd.read_csv('/content/student.csv')\n",
        "X = data.iloc[:, :-1].values\n",
        "y = data.iloc[:, -1].values\n",
        "X = np.c_[np.ones((X.shape[0], 1)), X]\n",
        "y = y[:, np.newaxis]\n",
        "data.head()"
      ],
      "metadata": {
        "colab": {
          "base_uri": "https://localhost:8080/",
          "height": 206
        },
        "id": "PcmJNtol0D0x",
        "outputId": "6f28e4f4-14f9-4769-9828-77b19af41a11"
      },
      "execution_count": 285,
      "outputs": [
        {
          "output_type": "execute_result",
          "data": {
            "text/plain": [
              "   Hours_studied  Hours_slept  Result\n",
              "0       7.329712     7.848625       0\n",
              "1      14.649273    10.545618       1\n",
              "2       3.431501     6.127123       0\n",
              "3       5.888299     6.204252       0\n",
              "4       3.680169     6.072624       0"
            ],
            "text/html": [
              "\n",
              "  <div id=\"df-d2b49768-afbb-4d15-b2ea-470c6817cc26\">\n",
              "    <div class=\"colab-df-container\">\n",
              "      <div>\n",
              "<style scoped>\n",
              "    .dataframe tbody tr th:only-of-type {\n",
              "        vertical-align: middle;\n",
              "    }\n",
              "\n",
              "    .dataframe tbody tr th {\n",
              "        vertical-align: top;\n",
              "    }\n",
              "\n",
              "    .dataframe thead th {\n",
              "        text-align: right;\n",
              "    }\n",
              "</style>\n",
              "<table border=\"1\" class=\"dataframe\">\n",
              "  <thead>\n",
              "    <tr style=\"text-align: right;\">\n",
              "      <th></th>\n",
              "      <th>Hours_studied</th>\n",
              "      <th>Hours_slept</th>\n",
              "      <th>Result</th>\n",
              "    </tr>\n",
              "  </thead>\n",
              "  <tbody>\n",
              "    <tr>\n",
              "      <th>0</th>\n",
              "      <td>7.329712</td>\n",
              "      <td>7.848625</td>\n",
              "      <td>0</td>\n",
              "    </tr>\n",
              "    <tr>\n",
              "      <th>1</th>\n",
              "      <td>14.649273</td>\n",
              "      <td>10.545618</td>\n",
              "      <td>1</td>\n",
              "    </tr>\n",
              "    <tr>\n",
              "      <th>2</th>\n",
              "      <td>3.431501</td>\n",
              "      <td>6.127123</td>\n",
              "      <td>0</td>\n",
              "    </tr>\n",
              "    <tr>\n",
              "      <th>3</th>\n",
              "      <td>5.888299</td>\n",
              "      <td>6.204252</td>\n",
              "      <td>0</td>\n",
              "    </tr>\n",
              "    <tr>\n",
              "      <th>4</th>\n",
              "      <td>3.680169</td>\n",
              "      <td>6.072624</td>\n",
              "      <td>0</td>\n",
              "    </tr>\n",
              "  </tbody>\n",
              "</table>\n",
              "</div>\n",
              "      <button class=\"colab-df-convert\" onclick=\"convertToInteractive('df-d2b49768-afbb-4d15-b2ea-470c6817cc26')\"\n",
              "              title=\"Convert this dataframe to an interactive table.\"\n",
              "              style=\"display:none;\">\n",
              "        \n",
              "  <svg xmlns=\"http://www.w3.org/2000/svg\" height=\"24px\"viewBox=\"0 0 24 24\"\n",
              "       width=\"24px\">\n",
              "    <path d=\"M0 0h24v24H0V0z\" fill=\"none\"/>\n",
              "    <path d=\"M18.56 5.44l.94 2.06.94-2.06 2.06-.94-2.06-.94-.94-2.06-.94 2.06-2.06.94zm-11 1L8.5 8.5l.94-2.06 2.06-.94-2.06-.94L8.5 2.5l-.94 2.06-2.06.94zm10 10l.94 2.06.94-2.06 2.06-.94-2.06-.94-.94-2.06-.94 2.06-2.06.94z\"/><path d=\"M17.41 7.96l-1.37-1.37c-.4-.4-.92-.59-1.43-.59-.52 0-1.04.2-1.43.59L10.3 9.45l-7.72 7.72c-.78.78-.78 2.05 0 2.83L4 21.41c.39.39.9.59 1.41.59.51 0 1.02-.2 1.41-.59l7.78-7.78 2.81-2.81c.8-.78.8-2.07 0-2.86zM5.41 20L4 18.59l7.72-7.72 1.47 1.35L5.41 20z\"/>\n",
              "  </svg>\n",
              "      </button>\n",
              "      \n",
              "  <style>\n",
              "    .colab-df-container {\n",
              "      display:flex;\n",
              "      flex-wrap:wrap;\n",
              "      gap: 12px;\n",
              "    }\n",
              "\n",
              "    .colab-df-convert {\n",
              "      background-color: #E8F0FE;\n",
              "      border: none;\n",
              "      border-radius: 50%;\n",
              "      cursor: pointer;\n",
              "      display: none;\n",
              "      fill: #1967D2;\n",
              "      height: 32px;\n",
              "      padding: 0 0 0 0;\n",
              "      width: 32px;\n",
              "    }\n",
              "\n",
              "    .colab-df-convert:hover {\n",
              "      background-color: #E2EBFA;\n",
              "      box-shadow: 0px 1px 2px rgba(60, 64, 67, 0.3), 0px 1px 3px 1px rgba(60, 64, 67, 0.15);\n",
              "      fill: #174EA6;\n",
              "    }\n",
              "\n",
              "    [theme=dark] .colab-df-convert {\n",
              "      background-color: #3B4455;\n",
              "      fill: #D2E3FC;\n",
              "    }\n",
              "\n",
              "    [theme=dark] .colab-df-convert:hover {\n",
              "      background-color: #434B5C;\n",
              "      box-shadow: 0px 1px 3px 1px rgba(0, 0, 0, 0.15);\n",
              "      filter: drop-shadow(0px 1px 2px rgba(0, 0, 0, 0.3));\n",
              "      fill: #FFFFFF;\n",
              "    }\n",
              "  </style>\n",
              "\n",
              "      <script>\n",
              "        const buttonEl =\n",
              "          document.querySelector('#df-d2b49768-afbb-4d15-b2ea-470c6817cc26 button.colab-df-convert');\n",
              "        buttonEl.style.display =\n",
              "          google.colab.kernel.accessAllowed ? 'block' : 'none';\n",
              "\n",
              "        async function convertToInteractive(key) {\n",
              "          const element = document.querySelector('#df-d2b49768-afbb-4d15-b2ea-470c6817cc26');\n",
              "          const dataTable =\n",
              "            await google.colab.kernel.invokeFunction('convertToInteractive',\n",
              "                                                     [key], {});\n",
              "          if (!dataTable) return;\n",
              "\n",
              "          const docLinkHtml = 'Like what you see? Visit the ' +\n",
              "            '<a target=\"_blank\" href=https://colab.research.google.com/notebooks/data_table.ipynb>data table notebook</a>'\n",
              "            + ' to learn more about interactive tables.';\n",
              "          element.innerHTML = '';\n",
              "          dataTable['output_type'] = 'display_data';\n",
              "          await google.colab.output.renderOutput(dataTable, element);\n",
              "          const docLink = document.createElement('div');\n",
              "          docLink.innerHTML = docLinkHtml;\n",
              "          element.appendChild(docLink);\n",
              "        }\n",
              "      </script>\n",
              "    </div>\n",
              "  </div>\n",
              "  "
            ]
          },
          "metadata": {},
          "execution_count": 285
        }
      ]
    },
    {
      "cell_type": "code",
      "source": [
        "from sklearn.model_selection import train_test_split\n",
        "X_train, X_test, y_train, y_test = train_test_split(X, y, test_size=0.2, random_state=0)\n",
        "print(len(X_train),len(y_train),  len(X_test), len(y_test))"
      ],
      "metadata": {
        "colab": {
          "base_uri": "https://localhost:8080/"
        },
        "id": "wR-3TTke0Vn0",
        "outputId": "c8efaeae-a1fe-4904-949b-2401b12f67d4"
      },
      "execution_count": 286,
      "outputs": [
        {
          "output_type": "stream",
          "name": "stdout",
          "text": [
            "40 40 10 10\n"
          ]
        }
      ]
    },
    {
      "cell_type": "code",
      "source": [
        "def sigmoid(x):\n",
        "    return 1/(1+np.exp(-x))"
      ],
      "metadata": {
        "id": "Rf1HGyQkzqb5"
      },
      "execution_count": 267,
      "outputs": []
    },
    {
      "cell_type": "code",
      "source": [
        "def cost_function(X, y, theta):\n",
        "  \n",
        "    m = len(y)\n",
        "    \n",
        "    # hypothesis\n",
        "    h = sigmoid(X.dot(theta))\n",
        "\n",
        "    # cost\n",
        "    J = (1 / m) * np.sum((-y * np.log(h)) - ((1 - y) * np.log(1 - h)))\n",
        "\n",
        "    return J"
      ],
      "metadata": {
        "id": "M_PiIhL6zt3G"
      },
      "execution_count": 279,
      "outputs": []
    },
    {
      "cell_type": "code",
      "source": [
        "def gradient_descent(X, y, theta, alpha, iterations):\n",
        "\n",
        "    m = len(y)\n",
        "\n",
        "    # cost history\n",
        "    J_history = np.zeros((iterations, 1))\n",
        "\n",
        "    for i in range(iterations):\n",
        "\n",
        "        # hypothesis\n",
        "        h = sigmoid(X.dot(theta))\n",
        "\n",
        "        # gradient\n",
        "        theta = theta - (alpha / m) * (X.T.dot(h - y))\n",
        "\n",
        "        # cost\n",
        "        J_history[i] = cost_function(X, y, theta)\n",
        "\n",
        "    return (J_history, theta)"
      ],
      "metadata": {
        "id": "txsvduCPzzhn"
      },
      "execution_count": 281,
      "outputs": []
    },
    {
      "cell_type": "code",
      "source": [
        "def predict(X, theta):\n",
        "    \n",
        "        # hypothesis\n",
        "        h = sigmoid(X.dot(theta))\n",
        "    \n",
        "        # convert probabilities to 0 or 1\n",
        "        h[h >= 0.5] = 1\n",
        "        h[h < 0.5] = 0\n",
        "    \n",
        "        return h"
      ],
      "metadata": {
        "id": "n79cgVQ7z6el"
      },
      "execution_count": 280,
      "outputs": []
    },
    {
      "cell_type": "code",
      "source": [
        "alpha = 0.01\n",
        "theta = np.zeros((X_train.shape[1], 1))\n",
        "iterations = 10000\n",
        "print('Initial cost is: ', cost_function(X_train, y_train, theta))"
      ],
      "metadata": {
        "colab": {
          "base_uri": "https://localhost:8080/"
        },
        "id": "ijCUkKZF0fk4",
        "outputId": "bb53c0ed-bab3-48b9-98db-26f351c38657"
      },
      "execution_count": 287,
      "outputs": [
        {
          "output_type": "stream",
          "name": "stdout",
          "text": [
            "Initial cost is:  0.6931471805599454\n"
          ]
        }
      ]
    },
    {
      "cell_type": "code",
      "source": [
        "J_history, theta_optimized = gradient_descent(X_train, y_train, theta, alpha, iterations)\n",
        "print('Optimized cost is: ', J_history[-1])\n",
        "print('Optimized parameters are: ', theta_optimized)"
      ],
      "metadata": {
        "colab": {
          "base_uri": "https://localhost:8080/"
        },
        "id": "yp_8VYpM04OD",
        "outputId": "950b907d-9f45-4da7-b4cc-cebecf936f15"
      },
      "execution_count": 288,
      "outputs": [
        {
          "output_type": "stream",
          "name": "stdout",
          "text": [
            "Optimized cost is:  [0.41143824]\n",
            "Optimized parameters are:  [[-4.53417377]\n",
            " [ 0.31383089]\n",
            " [ 0.1815459 ]]\n"
          ]
        }
      ]
    },
    {
      "cell_type": "code",
      "source": [
        "plt.plot(J_history)\n",
        "plt.xlabel('Iteration')\n",
        "plt.ylabel('$J(\\Theta)$')\n",
        "plt.title('Cost function using Gradient Descent')\n",
        "plt.show()"
      ],
      "metadata": {
        "colab": {
          "base_uri": "https://localhost:8080/",
          "height": 472
        },
        "id": "vpP8x4pk1Xlc",
        "outputId": "6eac5726-69f8-42ee-94e7-288819b55cf3"
      },
      "execution_count": 289,
      "outputs": [
        {
          "output_type": "display_data",
          "data": {
            "text/plain": [
              "<Figure size 640x480 with 1 Axes>"
            ],
            "image/png": "[encoded data removed]"
          },
          "metadata": {}
        }
      ]
    },
    {
      "cell_type": "code",
      "source": [
        "plt.scatter(X[:, 1][y[:, 0] == 0], X[:, 2][y[:, 0] == 0], label='Fail')\n",
        "plt.scatter(X[:, 1][y[:, 0] == 1], X[:, 2][y[:, 0] == 1], label='Pass')\n",
        "plt.xlabel('Hours_studied')\n",
        "plt.ylabel('Hours_slept')\n",
        "plt.legend()\n",
        "plt.title('Result')\n",
        "plt.show()"
      ],
      "metadata": {
        "colab": {
          "base_uri": "https://localhost:8080/",
          "height": 472
        },
        "id": "qkAXtmWs1c-D",
        "outputId": "85e139d5-59aa-4bf8-856b-2e199e5313ee"
      },
      "execution_count": 290,
      "outputs": [
        {
          "output_type": "display_data",
          "data": {
            "text/plain": [
              "<Figure size 640x480 with 1 Axes>"
            ],
            "image/png": "[encoded data removed]"
          },
          "metadata": {}
        }
      ]
    },
    {
      "cell_type": "code",
      "source": [
        "y_pred = predict(X_test, theta_optimized)\n",
        "print('Accuracy: {} %'.format(100 * np.sum(y_pred == y_test) / len(y_test)))"
      ],
      "metadata": {
        "colab": {
          "base_uri": "https://localhost:8080/"
        },
        "id": "_PtB8SC-2Jv4",
        "outputId": "2c7560c5-cd4e-4c54-81df-ec43e836a458"
      },
      "execution_count": 293,
      "outputs": [
        {
          "output_type": "stream",
          "name": "stdout",
          "text": [
            "Accuracy: 100.0 %\n"
          ]
        }
      ]
    },
    {
      "cell_type": "markdown",
      "source": [
        "# 15 Use some function for regularization of dataset based on problem 14"
      ],
      "metadata": {
        "id": "TxwkWnFiDCn-"
      }
    },
    {
      "cell_type": "code",
      "source": [
        "\n",
        "# logistic regression with L1 regularization\n",
        "def logistic_regression_L1(X, y, theta, alpha, iterations, l1):\n",
        "\n",
        "        m = len(y)    \n",
        "        # cost history\n",
        "        J_history = np.zeros((iterations, 1))\n",
        "    \n",
        "        for i in range(iterations):\n",
        "    \n",
        "            # hypothesis\n",
        "            h = sigmoid(X.dot(theta))\n",
        "    \n",
        "            # gradient\n",
        "            theta = theta - (alpha / m) * (X.T.dot(h - y)) + (l1 / m) * np.sign(theta)\n",
        "    \n",
        "            # cost\n",
        "            J_history[i] = cost_function(X, y, theta)\n",
        "    \n",
        "        return (J_history, theta)"
      ],
      "metadata": {
        "id": "Ywf27C8o3IJx"
      },
      "execution_count": 294,
      "outputs": []
    },
    {
      "cell_type": "code",
      "source": [
        "alpha = 0.01\n",
        "iterations = 10000\n",
        "# regularization parameter\n",
        "l1 = 0.1\n",
        "print('Initial cost is: ', cost_function(X_train, y_train, theta))"
      ],
      "metadata": {
        "colab": {
          "base_uri": "https://localhost:8080/"
        },
        "id": "UChUWZm55aQi",
        "outputId": "1a3cf7dd-48db-438c-8e2c-70673a5ff5e3"
      },
      "execution_count": 295,
      "outputs": [
        {
          "output_type": "stream",
          "name": "stdout",
          "text": [
            "Initial cost is:  0.6931471805599454\n"
          ]
        }
      ]
    },
    {
      "cell_type": "code",
      "source": [
        "J_history, theta_optimized = logistic_regression_L1(X_train, y_train, theta, alpha, iterations, l1)\n",
        "print('Optimized cost is: ', J_history[-1])\n",
        "print('Optimized parameters are: ', theta_optimized)"
      ],
      "metadata": {
        "colab": {
          "base_uri": "https://localhost:8080/"
        },
        "id": "XdFRWZj75i1f",
        "outputId": "92803ca3-c7c2-48cc-c508-b7d0fa5b2211"
      },
      "execution_count": 296,
      "outputs": [
        {
          "output_type": "stream",
          "name": "stdout",
          "text": [
            "Optimized cost is:  [0.32018745]\n",
            "Optimized parameters are:  [[-27.89570423]\n",
            " [  1.31819399]\n",
            " [  1.87622135]]\n"
          ]
        }
      ]
    },
    {
      "cell_type": "code",
      "source": [
        "plt.plot(J_history)\n",
        "plt.xlabel('Iteration')\n",
        "plt.ylabel('$J(\\Theta)$')\n",
        "plt.title('Cost function using Gradient Descent with L1 regularization')\n",
        "plt.show()"
      ],
      "metadata": {
        "colab": {
          "base_uri": "https://localhost:8080/",
          "height": 472
        },
        "id": "xXreHP7F5wVX",
        "outputId": "19c4fbfe-7bde-4542-821b-f7be76ecdab7"
      },
      "execution_count": 297,
      "outputs": [
        {
          "output_type": "display_data",
          "data": {
            "text/plain": [
              "<Figure size 640x480 with 1 Axes>"
            ],
            "image/png": "[encoded data removed]"
          },
          "metadata": {}
        }
      ]
    },
    {
      "cell_type": "code",
      "source": [
        "y_pred = predict(X_test, theta_optimized)\n",
        "print('Accuracy: {} %'.format(100 * np.sum(y_pred == y_test) / len(y_test)))\n"
      ],
      "metadata": {
        "colab": {
          "base_uri": "https://localhost:8080/"
        },
        "id": "Mi1PuV-r51FE",
        "outputId": "d60ef8fe-ca7b-44bf-ebe5-a86b8a6e1134"
      },
      "execution_count": 298,
      "outputs": [
        {
          "output_type": "stream",
          "name": "stdout",
          "text": [
            "Accuracy: 100.0 %\n"
          ]
        }
      ]
    },
    {
      "cell_type": "markdown",
      "source": [
        "# 16 Use some function for neural networks, like Stochastic gradient Descent or backpropagation algorithm to predict the value of a variable based on the dataset of problem 14"
      ],
      "metadata": {
        "id": "W3IOI7H6DfDF"
      }
    },
    {
      "cell_type": "code",
      "source": [
        "import numpy as np\n",
        "import pandas as pd\n",
        "import matplotlib.pyplot as plt"
      ],
      "metadata": {
        "id": "qBYodZ7C_FDi"
      },
      "execution_count": 199,
      "outputs": []
    },
    {
      "cell_type": "code",
      "source": [
        "data = pd.read_csv('/content/student.csv')\n",
        "X = data.iloc[:, :-1].values\n",
        "y = data.iloc[:, -1].values.reshape(-1, 1)\n",
        "data.head()"
      ],
      "metadata": {
        "colab": {
          "base_uri": "https://localhost:8080/",
          "height": 206
        },
        "id": "Xq5Wkn_DFevJ",
        "outputId": "28652cfd-e49e-4e0d-d2e2-559a387a4183"
      },
      "execution_count": 302,
      "outputs": [
        {
          "output_type": "execute_result",
          "data": {
            "text/plain": [
              "   Hours_studied  Hours_slept  Result\n",
              "0       7.329712     7.848625       0\n",
              "1      14.649273    10.545618       1\n",
              "2       3.431501     6.127123       0\n",
              "3       5.888299     6.204252       0\n",
              "4       3.680169     6.072624       0"
            ],
            "text/html": [
              "\n",
              "  <div id=\"df-c1e65e6b-48d5-4600-a0cd-89a3dba42ef1\">\n",
              "    <div class=\"colab-df-container\">\n",
              "      <div>\n",
              "<style scoped>\n",
              "    .dataframe tbody tr th:only-of-type {\n",
              "        vertical-align: middle;\n",
              "    }\n",
              "\n",
              "    .dataframe tbody tr th {\n",
              "        vertical-align: top;\n",
              "    }\n",
              "\n",
              "    .dataframe thead th {\n",
              "        text-align: right;\n",
              "    }\n",
              "</style>\n",
              "<table border=\"1\" class=\"dataframe\">\n",
              "  <thead>\n",
              "    <tr style=\"text-align: right;\">\n",
              "      <th></th>\n",
              "      <th>Hours_studied</th>\n",
              "      <th>Hours_slept</th>\n",
              "      <th>Result</th>\n",
              "    </tr>\n",
              "  </thead>\n",
              "  <tbody>\n",
              "    <tr>\n",
              "      <th>0</th>\n",
              "      <td>7.329712</td>\n",
              "      <td>7.848625</td>\n",
              "      <td>0</td>\n",
              "    </tr>\n",
              "    <tr>\n",
              "      <th>1</th>\n",
              "      <td>14.649273</td>\n",
              "      <td>10.545618</td>\n",
              "      <td>1</td>\n",
              "    </tr>\n",
              "    <tr>\n",
              "      <th>2</th>\n",
              "      <td>3.431501</td>\n",
              "      <td>6.127123</td>\n",
              "      <td>0</td>\n",
              "    </tr>\n",
              "    <tr>\n",
              "      <th>3</th>\n",
              "      <td>5.888299</td>\n",
              "      <td>6.204252</td>\n",
              "      <td>0</td>\n",
              "    </tr>\n",
              "    <tr>\n",
              "      <th>4</th>\n",
              "      <td>3.680169</td>\n",
              "      <td>6.072624</td>\n",
              "      <td>0</td>\n",
              "    </tr>\n",
              "  </tbody>\n",
              "</table>\n",
              "</div>\n",
              "      <button class=\"colab-df-convert\" onclick=\"convertToInteractive('df-c1e65e6b-48d5-4600-a0cd-89a3dba42ef1')\"\n",
              "              title=\"Convert this dataframe to an interactive table.\"\n",
              "              style=\"display:none;\">\n",
              "        \n",
              "  <svg xmlns=\"http://www.w3.org/2000/svg\" height=\"24px\"viewBox=\"0 0 24 24\"\n",
              "       width=\"24px\">\n",
              "    <path d=\"M0 0h24v24H0V0z\" fill=\"none\"/>\n",
              "    <path d=\"M18.56 5.44l.94 2.06.94-2.06 2.06-.94-2.06-.94-.94-2.06-.94 2.06-2.06.94zm-11 1L8.5 8.5l.94-2.06 2.06-.94-2.06-.94L8.5 2.5l-.94 2.06-2.06.94zm10 10l.94 2.06.94-2.06 2.06-.94-2.06-.94-.94-2.06-.94 2.06-2.06.94z\"/><path d=\"M17.41 7.96l-1.37-1.37c-.4-.4-.92-.59-1.43-.59-.52 0-1.04.2-1.43.59L10.3 9.45l-7.72 7.72c-.78.78-.78 2.05 0 2.83L4 21.41c.39.39.9.59 1.41.59.51 0 1.02-.2 1.41-.59l7.78-7.78 2.81-2.81c.8-.78.8-2.07 0-2.86zM5.41 20L4 18.59l7.72-7.72 1.47 1.35L5.41 20z\"/>\n",
              "  </svg>\n",
              "      </button>\n",
              "      \n",
              "  <style>\n",
              "    .colab-df-container {\n",
              "      display:flex;\n",
              "      flex-wrap:wrap;\n",
              "      gap: 12px;\n",
              "    }\n",
              "\n",
              "    .colab-df-convert {\n",
              "      background-color: #E8F0FE;\n",
              "      border: none;\n",
              "      border-radius: 50%;\n",
              "      cursor: pointer;\n",
              "      display: none;\n",
              "      fill: #1967D2;\n",
              "      height: 32px;\n",
              "      padding: 0 0 0 0;\n",
              "      width: 32px;\n",
              "    }\n",
              "\n",
              "    .colab-df-convert:hover {\n",
              "      background-color: #E2EBFA;\n",
              "      box-shadow: 0px 1px 2px rgba(60, 64, 67, 0.3), 0px 1px 3px 1px rgba(60, 64, 67, 0.15);\n",
              "      fill: #174EA6;\n",
              "    }\n",
              "\n",
              "    [theme=dark] .colab-df-convert {\n",
              "      background-color: #3B4455;\n",
              "      fill: #D2E3FC;\n",
              "    }\n",
              "\n",
              "    [theme=dark] .colab-df-convert:hover {\n",
              "      background-color: #434B5C;\n",
              "      box-shadow: 0px 1px 3px 1px rgba(0, 0, 0, 0.15);\n",
              "      filter: drop-shadow(0px 1px 2px rgba(0, 0, 0, 0.3));\n",
              "      fill: #FFFFFF;\n",
              "    }\n",
              "  </style>\n",
              "\n",
              "      <script>\n",
              "        const buttonEl =\n",
              "          document.querySelector('#df-c1e65e6b-48d5-4600-a0cd-89a3dba42ef1 button.colab-df-convert');\n",
              "        buttonEl.style.display =\n",
              "          google.colab.kernel.accessAllowed ? 'block' : 'none';\n",
              "\n",
              "        async function convertToInteractive(key) {\n",
              "          const element = document.querySelector('#df-c1e65e6b-48d5-4600-a0cd-89a3dba42ef1');\n",
              "          const dataTable =\n",
              "            await google.colab.kernel.invokeFunction('convertToInteractive',\n",
              "                                                     [key], {});\n",
              "          if (!dataTable) return;\n",
              "\n",
              "          const docLinkHtml = 'Like what you see? Visit the ' +\n",
              "            '<a target=\"_blank\" href=https://colab.research.google.com/notebooks/data_table.ipynb>data table notebook</a>'\n",
              "            + ' to learn more about interactive tables.';\n",
              "          element.innerHTML = '';\n",
              "          dataTable['output_type'] = 'display_data';\n",
              "          await google.colab.output.renderOutput(dataTable, element);\n",
              "          const docLink = document.createElement('div');\n",
              "          docLink.innerHTML = docLinkHtml;\n",
              "          element.appendChild(docLink);\n",
              "        }\n",
              "      </script>\n",
              "    </div>\n",
              "  </div>\n",
              "  "
            ]
          },
          "metadata": {},
          "execution_count": 302
        }
      ]
    },
    {
      "cell_type": "code",
      "source": [
        "def initialize_parameters(layer_dims):\n",
        "  \n",
        "  np.random.seed(3)\n",
        "  parameters = {}\n",
        "  L = len(layer_dims)         \n",
        "\n",
        "  for l in range(1, L):\n",
        "\n",
        "    parameters['W' + str(l)] = np.ones((layer_dims[l-1], layer_dims[l]))*0.1\n",
        "    parameters['b' + str(l)] = np.zeros((layer_dims[l], 1))\n",
        "      \n",
        "\n",
        "  return parameters"
      ],
      "metadata": {
        "id": "BWeoprpvGY56"
      },
      "execution_count": 247,
      "outputs": []
    },
    {
      "cell_type": "code",
      "source": [
        "def sigmoid(z):\n",
        "    return 1 / (1 + np.exp(-z))"
      ],
      "metadata": {
        "id": "CGs9VN0U_Jr7"
      },
      "execution_count": 200,
      "outputs": []
    },
    {
      "cell_type": "code",
      "source": [
        "def linear_forward(A_prev, W, b):\n",
        "  \n",
        "  Z = np.dot(W.T, A_prev) + b\n",
        "\n",
        "  A = sigmoid(Z)\n",
        "  \n",
        "  return A"
      ],
      "metadata": {
        "id": "yOHRNtwnGXPW"
      },
      "execution_count": 236,
      "outputs": []
    },
    {
      "cell_type": "code",
      "source": [
        "# L-layer feed forward\n",
        "\n",
        "def L_layer_forward(X, parameters):\n",
        "\n",
        "  A = X\n",
        "  L = len(parameters) // 2                  # number of layers in the neural network\n",
        "  \n",
        "  for l in range(1, L+1):\n",
        "    A_prev = A \n",
        "    Wl = parameters['W' + str(l)]\n",
        "    bl = parameters['b' + str(l)]\n",
        "\n",
        "    A = linear_forward(A_prev, Wl, bl)\n",
        "\n",
        "          \n",
        "  return A,A_prev\n"
      ],
      "metadata": {
        "id": "2dkFD_a8GuIL"
      },
      "execution_count": 246,
      "outputs": []
    },
    {
      "cell_type": "code",
      "source": [
        "def update_parameters(parameters,y,y_hat,A1,X):\n",
        "  parameters['W2'][0][0] = parameters['W2'][0][0] + (0.0001 * (y - y_hat)*A1[0][0])\n",
        "  parameters['W2'][1][0] = parameters['W2'][1][0] + (0.0001 * (y - y_hat)*A1[1][0])\n",
        "  parameters['b2'][0][0] = parameters['W2'][1][0] + (0.0001 * (y - y_hat))\n",
        "\n",
        "  parameters['W1'][0][0] = parameters['W1'][0][0] + (0.0001 * (y - y_hat)*parameters['W2'][0][0]*A1[0][0]*(1-A1[0][0])*X[0][0])\n",
        "  parameters['W1'][0][1] = parameters['W1'][0][1] + (0.0001 * (y - y_hat)*parameters['W2'][0][0]*A1[0][0]*(1-A1[0][0])*X[1][0])\n",
        "  parameters['b1'][0][0] = parameters['b1'][0][0] + (0.0001 * (y - y_hat)*parameters['W2'][0][0]*A1[0][0]*(1-A1[0][0]))\n",
        "\n",
        "  parameters['W1'][1][0] = parameters['W1'][1][0] + (0.0001 * (y - y_hat)*parameters['W2'][1][0]*A1[1][0]*(1-A1[1][0])*X[0][0])\n",
        "  parameters['W1'][1][1] = parameters['W1'][1][1] + (0.0001 * (y - y_hat)*parameters['W2'][1][0]*A1[1][0]*(1-A1[1][0])*X[1][0])\n",
        "  parameters['b1'][1][0] = parameters['b1'][1][0] + (0.0001 * (y - y_hat)*parameters['W2'][1][0]*A1[1][0]*(1-A1[1][0]))"
      ],
      "metadata": {
        "id": "NHb_B8RVJlta"
      },
      "execution_count": 245,
      "outputs": []
    },
    {
      "cell_type": "code",
      "source": [
        "# epochs implementation\n",
        "\n",
        "parameters = initialize_parameters([2,2,1])\n",
        "epochs = 100\n",
        "\n",
        "for i in range(epochs):\n",
        "\n",
        "  Loss = []\n",
        "\n",
        "  for j in range(df.shape[0]):\n",
        "\n",
        "    X = data[['Hours_studied', 'Hours_slept']].values[j].reshape(2,1) # Shape(no of features, no. of training example)\n",
        "    y = data[['Result']].values[j][0]\n",
        "\n",
        "    # Parameter initialization\n",
        "\n",
        "\n",
        "    y_hat,A1 = L_layer_forward(X,parameters)\n",
        "    y_hat = y_hat[0][0]\n",
        "\n",
        "    update_parameters(parameters,y,y_hat,A1,X)\n",
        "\n",
        "    Loss.append(-y*np.log(y_hat) - (1-y)*np.log(1-y_hat))\n",
        "\n",
        "  print('Epoch - ',i+1,'Loss - ',np.array(Loss).mean())\n",
        "\n",
        "parameters"
      ],
      "metadata": {
        "colab": {
          "base_uri": "https://localhost:8080/"
        },
        "id": "0AJp62TbJ3UB",
        "outputId": "3da61ac7-0a0c-4545-f02d-1b75819cd958"
      },
      "execution_count": 248,
      "outputs": [
        {
          "output_type": "stream",
          "name": "stdout",
          "text": [
            "Epoch -  1 Loss -  0.7285424020448542\n",
            "Epoch -  2 Loss -  0.7293378301579925\n",
            "Epoch -  3 Loss -  0.7290280582827963\n",
            "Epoch -  4 Loss -  0.7287202358232555\n",
            "Epoch -  5 Loss -  0.7284143478203307\n",
            "Epoch -  6 Loss -  0.7281103794440932\n",
            "Epoch -  7 Loss -  0.7278083159927268\n",
            "Epoch -  8 Loss -  0.727508142891527\n",
            "Epoch -  9 Loss -  0.7272098456919093\n",
            "Epoch -  10 Loss -  0.7269134100704149\n",
            "Epoch -  11 Loss -  0.7266188218277208\n",
            "Epoch -  12 Loss -  0.7263260668876553\n",
            "Epoch -  13 Loss -  0.7260351312962137\n",
            "Epoch -  14 Loss -  0.7257460012205778\n",
            "Epoch -  15 Loss -  0.7254586629481398\n",
            "Epoch -  16 Loss -  0.7251731028855295\n",
            "Epoch -  17 Loss -  0.7248893075576442\n",
            "Epoch -  18 Loss -  0.7246072636066834\n",
            "Epoch -  19 Loss -  0.7243269577911845\n",
            "Epoch -  20 Loss -  0.7240483769850684\n",
            "Epoch -  21 Loss -  0.7237715081766819\n",
            "Epoch -  22 Loss -  0.7234963384678492\n",
            "Epoch -  23 Loss -  0.7232228550729254\n",
            "Epoch -  24 Loss -  0.7229510453178549\n",
            "Epoch -  25 Loss -  0.7226808966392341\n",
            "Epoch -  26 Loss -  0.7224123965833782\n",
            "Epoch -  27 Loss -  0.7221455328053925\n",
            "Epoch -  28 Loss -  0.7218802930682492\n",
            "Epoch -  29 Loss -  0.7216166652418669\n",
            "Epoch -  30 Loss -  0.7213546373021977\n",
            "Epoch -  31 Loss -  0.7210941973303148\n",
            "Epoch -  32 Loss -  0.7208353335115103\n",
            "Epoch -  33 Loss -  0.7205780341343937\n",
            "Epoch -  34 Loss -  0.7203222875899955\n",
            "Epoch -  35 Loss -  0.7200680823708788\n",
            "Epoch -  36 Loss -  0.7198154070702537\n",
            "Epoch -  37 Loss -  0.7195642503810972\n",
            "Epoch -  38 Loss -  0.7193146010952772\n",
            "Epoch -  39 Loss -  0.719066448102684\n",
            "Epoch -  40 Loss -  0.7188197803903659\n",
            "Epoch -  41 Loss -  0.7185745870416684\n",
            "Epoch -  42 Loss -  0.7183308572353821\n",
            "Epoch -  43 Loss -  0.7180885802448931\n",
            "Epoch -  44 Loss -  0.7178477454373393\n",
            "Epoch -  45 Loss -  0.7176083422727737\n",
            "Epoch -  46 Loss -  0.7173703603033311\n",
            "Epoch -  47 Loss -  0.7171337891724014\n",
            "Epoch -  48 Loss -  0.7168986186138089\n",
            "Epoch -  49 Loss -  0.7166648384509944\n",
            "Epoch -  50 Loss -  0.7164324385962065\n",
            "Epoch -  51 Loss -  0.7162014090496968\n",
            "Epoch -  52 Loss -  0.7159717398989187\n",
            "Epoch -  53 Loss -  0.7157434213177359\n",
            "Epoch -  54 Loss -  0.7155164435656325\n",
            "Epoch -  55 Loss -  0.7152907969869317\n",
            "Epoch -  56 Loss -  0.7150664720100174\n",
            "Epoch -  57 Loss -  0.7148434591465649\n",
            "Epoch -  58 Loss -  0.7146217489907737\n",
            "Epoch -  59 Loss -  0.7144013322186068\n",
            "Epoch -  60 Loss -  0.7141821995870384\n",
            "Epoch -  61 Loss -  0.7139643419333042\n",
            "Epoch -  62 Loss -  0.7137477501741575\n",
            "Epoch -  63 Loss -  0.7135324153051323\n",
            "Epoch -  64 Loss -  0.7133183283998119\n",
            "Epoch -  65 Loss -  0.7131054806091021\n",
            "Epoch -  66 Loss -  0.7128938631605106\n",
            "Epoch -  67 Loss -  0.7126834673574335\n",
            "Epoch -  68 Loss -  0.7124742845784436\n",
            "Epoch -  69 Loss -  0.7122663062765885\n",
            "Epoch -  70 Loss -  0.712059523978692\n",
            "Epoch -  71 Loss -  0.711853929284662\n",
            "Epoch -  72 Loss -  0.7116495138668034\n",
            "Epoch -  73 Loss -  0.7114462694691361\n",
            "Epoch -  74 Loss -  0.7112441879067213\n",
            "Epoch -  75 Loss -  0.7110432610649885\n",
            "Epoch -  76 Loss -  0.7108434808990739\n",
            "Epoch -  77 Loss -  0.7106448394331593\n",
            "Epoch -  78 Loss -  0.7104473287598185\n",
            "Epoch -  79 Loss -  0.710250941039371\n",
            "Epoch -  80 Loss -  0.710055668499238\n",
            "Epoch -  81 Loss -  0.7098615034333049\n",
            "Epoch -  82 Loss -  0.7096684382012907\n",
            "Epoch -  83 Loss -  0.7094764652281217\n",
            "Epoch -  84 Loss -  0.7092855770033094\n",
            "Epoch -  85 Loss -  0.7090957660803359\n",
            "Epoch -  86 Loss -  0.7089070250760446\n",
            "Epoch -  87 Loss -  0.7087193466700331\n",
            "Epoch -  88 Loss -  0.7085327236040562\n",
            "Epoch -  89 Loss -  0.7083471486814293\n",
            "Epoch -  90 Loss -  0.7081626147664416\n",
            "Epoch -  91 Loss -  0.7079791147837713\n",
            "Epoch -  92 Loss -  0.707796641717907\n",
            "Epoch -  93 Loss -  0.7076151886125741\n",
            "Epoch -  94 Loss -  0.7074347485701682\n",
            "Epoch -  95 Loss -  0.7072553147511901\n",
            "Epoch -  96 Loss -  0.707076880373689\n",
            "Epoch -  97 Loss -  0.7068994387127091\n",
            "Epoch -  98 Loss -  0.7067229830997424\n",
            "Epoch -  99 Loss -  0.7065475069221854\n",
            "Epoch -  100 Loss -  0.7063730036228019\n"
          ]
        },
        {
          "output_type": "execute_result",
          "data": {
            "text/plain": [
              "{'W1': array([[0.09540141, 0.09117589],\n",
              "        [0.09541098, 0.09110489]]),\n",
              " 'b1': array([[-0.00129987],\n",
              "        [-0.00131423]]),\n",
              " 'W2': array([[0.04190988],\n",
              "        [0.042359  ]]),\n",
              " 'b2': array([[0.04240612]])}"
            ]
          },
          "metadata": {},
          "execution_count": 248
        }
      ]
    }
  ]
}