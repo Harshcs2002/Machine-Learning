{
  "cells": [
    {
      "attachments": {},
      "cell_type": "markdown",
      "metadata": {
        "id": "WPMrh2cKSECl"
      },
      "source": [
        "#   Perform elementary mathematical operations in Octave/MATLAB/R/Python like addition,multiplication, division and exponentiation"
      ]
    },
    {
      "cell_type": "code",
      "execution_count": 1,
      "metadata": {
        "colab": {
          "base_uri": "https://localhost:8080/"
        },
        "id": "4F-PEMfCSHgD",
        "outputId": "227a73a3-e01b-49c7-982d-84e9c82826e3"
      },
      "outputs": [
        {
          "data": {
            "text/plain": [
              "12"
            ]
          },
          "execution_count": 1,
          "metadata": {},
          "output_type": "execute_result"
        }
      ],
      "source": [
        "# Addition\n",
        "5 + 7"
      ]
    },
    {
      "cell_type": "code",
      "execution_count": 2,
      "metadata": {
        "colab": {
          "base_uri": "https://localhost:8080/"
        },
        "id": "HG6v5_DeSYNy",
        "outputId": "257ce289-c0d0-46c7-dcf3-9aff88fb3a6c"
      },
      "outputs": [
        {
          "data": {
            "text/plain": [
              "-2"
            ]
          },
          "execution_count": 2,
          "metadata": {},
          "output_type": "execute_result"
        }
      ],
      "source": [
        "# Subtraction\n",
        "5 - 7"
      ]
    },
    {
      "cell_type": "code",
      "execution_count": 3,
      "metadata": {
        "colab": {
          "base_uri": "https://localhost:8080/"
        },
        "id": "WCtTUd4IScnk",
        "outputId": "b74532a7-a91b-4d3e-acb9-2f0c3659245c"
      },
      "outputs": [
        {
          "data": {
            "text/plain": [
              "35"
            ]
          },
          "execution_count": 3,
          "metadata": {},
          "output_type": "execute_result"
        }
      ],
      "source": [
        "# Multiplication\n",
        "5 * 7"
      ]
    },
    {
      "cell_type": "code",
      "execution_count": 4,
      "metadata": {
        "colab": {
          "base_uri": "https://localhost:8080/"
        },
        "id": "3fZ0VaKsSeaR",
        "outputId": "4387e642-ec63-41e8-f517-4a09552cd8e1"
      },
      "outputs": [
        {
          "data": {
            "text/plain": [
              "0.7142857142857143"
            ]
          },
          "execution_count": 4,
          "metadata": {},
          "output_type": "execute_result"
        }
      ],
      "source": [
        "# Division\n",
        "5 / 7"
      ]
    },
    {
      "cell_type": "code",
      "execution_count": 6,
      "metadata": {
        "colab": {
          "base_uri": "https://localhost:8080/"
        },
        "id": "QqtIsUeHSmVU",
        "outputId": "6bf42fc0-6c9b-46b7-9752-77ed54198d14"
      },
      "outputs": [
        {
          "data": {
            "text/plain": [
              "78125"
            ]
          },
          "execution_count": 6,
          "metadata": {},
          "output_type": "execute_result"
        }
      ],
      "source": [
        "# Exponentiation\n",
        "5 ** 7"
      ]
    },
    {
      "attachments": {},
      "cell_type": "markdown",
      "metadata": {
        "id": "_flSg0YQTRwD"
      },
      "source": [
        "#  Perform elementary logical operations in Octave/MATLAB/R/Python (like OR, AND, Checking for Equality, NOT, XOR)."
      ]
    },
    {
      "cell_type": "code",
      "execution_count": 7,
      "metadata": {
        "colab": {
          "base_uri": "https://localhost:8080/"
        },
        "id": "Ksfit6hsTaJI",
        "outputId": "acfdc01c-f111-4739-f0e1-f4080f930dcb"
      },
      "outputs": [
        {
          "data": {
            "text/plain": [
              "True"
            ]
          },
          "execution_count": 7,
          "metadata": {},
          "output_type": "execute_result"
        }
      ],
      "source": [
        "# OR\n",
        "True | False"
      ]
    },
    {
      "cell_type": "code",
      "execution_count": 8,
      "metadata": {
        "colab": {
          "base_uri": "https://localhost:8080/"
        },
        "id": "h0ZLBPSxTgZU",
        "outputId": "38ab3062-5f96-4f29-aa55-fc183b9878a8"
      },
      "outputs": [
        {
          "data": {
            "text/plain": [
              "False"
            ]
          },
          "execution_count": 8,
          "metadata": {},
          "output_type": "execute_result"
        }
      ],
      "source": [
        "# AND\n",
        "True & False"
      ]
    },
    {
      "cell_type": "code",
      "execution_count": 9,
      "metadata": {
        "colab": {
          "base_uri": "https://localhost:8080/"
        },
        "id": "aL0tCNQ4TmnY",
        "outputId": "3cf93e10-d1a6-42c3-e365-38778ea4d71b"
      },
      "outputs": [
        {
          "data": {
            "text/plain": [
              "False"
            ]
          },
          "execution_count": 9,
          "metadata": {},
          "output_type": "execute_result"
        }
      ],
      "source": [
        "# Check for inequality\n",
        "True == False"
      ]
    },
    {
      "cell_type": "code",
      "execution_count": 10,
      "metadata": {
        "colab": {
          "base_uri": "https://localhost:8080/"
        },
        "id": "HRvvBewvTx8U",
        "outputId": "3b86dd2e-4424-4752-b9ab-eed13033eb74"
      },
      "outputs": [
        {
          "data": {
            "text/plain": [
              "-2"
            ]
          },
          "execution_count": 10,
          "metadata": {},
          "output_type": "execute_result"
        }
      ],
      "source": [
        "# NOT\n",
        "~True"
      ]
    },
    {
      "cell_type": "code",
      "execution_count": 11,
      "metadata": {
        "colab": {
          "base_uri": "https://localhost:8080/"
        },
        "id": "C0vgz-WATzf7",
        "outputId": "e4b7059c-6ce9-4d4a-8036-8c5a07c49eec"
      },
      "outputs": [
        {
          "name": "stdout",
          "output_type": "stream",
          "text": [
            "False\n",
            "True\n"
          ]
        }
      ],
      "source": [
        "# XOR\n",
        "print(True ^ True)\n",
        "print(True ^ False)"
      ]
    },
    {
      "attachments": {},
      "cell_type": "markdown",
      "metadata": {
        "id": "ca1F7YhfT5KH"
      },
      "source": [
        "#  Create, initialize and display simple variables and simple strings and use simple formatting for variable."
      ]
    },
    {
      "cell_type": "code",
      "execution_count": 12,
      "metadata": {
        "id": "uEi62AsUUCDQ"
      },
      "outputs": [],
      "source": [
        "# Creating and initializing a variable\n",
        "a = 5\n",
        "x1 = 10\n",
        "x2 = 20\n",
        "name = \"Harsh\"\n"
      ]
    },
    {
      "cell_type": "code",
      "execution_count": 13,
      "metadata": {
        "colab": {
          "base_uri": "https://localhost:8080/"
        },
        "id": "kkzgg2vrUNsI",
        "outputId": "cceb3bfe-3b45-474c-b63c-2167f9b2fe8e"
      },
      "outputs": [
        {
          "name": "stdout",
          "output_type": "stream",
          "text": [
            "5\n",
            "10\n",
            "20\n",
            "Harsh\n"
          ]
        }
      ],
      "source": [
        "# Displaying variables\n",
        "print(a)\n",
        "print(x1)\n",
        "print(x2)\n",
        "print(name)"
      ]
    },
    {
      "attachments": {},
      "cell_type": "markdown",
      "metadata": {
        "id": "6X3aPhICUW6V"
      },
      "source": [
        "# Create/Define single dimension / multidimension arrays, and arrays with specific values like array of all ones, all zeros, array with random values within a range, or a diagonal matrix."
      ]
    },
    {
      "cell_type": "code",
      "execution_count": 14,
      "metadata": {
        "id": "l408OkhBUb3g"
      },
      "outputs": [],
      "source": [
        "import numpy as np"
      ]
    },
    {
      "cell_type": "code",
      "execution_count": 17,
      "metadata": {
        "colab": {
          "base_uri": "https://localhost:8080/"
        },
        "id": "9x0KO-dZUgf9",
        "outputId": "af635c81-2d83-4791-f78b-c5048dfa120f"
      },
      "outputs": [
        {
          "name": "stdout",
          "output_type": "stream",
          "text": [
            "x =  [1 2 3 4 5]\n",
            "y = \n",
            " [[1]\n",
            " [2]\n",
            " [3]]\n"
          ]
        }
      ],
      "source": [
        "# Creating single-dimension arrays\n",
        "x = np.array([1, 2, 3, 4, 5])\n",
        "print('x = ', x)\n",
        "y = np.array([[1], [2], [3]])\n",
        "print('y = \\n', y)"
      ]
    },
    {
      "cell_type": "code",
      "execution_count": 18,
      "metadata": {
        "colab": {
          "base_uri": "https://localhost:8080/"
        },
        "id": "R58dQKgQVBC1",
        "outputId": "99d1e722-594d-4c49-e426-01145c2d41a0"
      },
      "outputs": [
        {
          "name": "stdout",
          "output_type": "stream",
          "text": [
            "z = \n",
            " [[1 2 3]\n",
            " [6 7 8]]\n",
            "z1 = \n",
            " [[1 2 3]\n",
            " [6 7 8]]\n"
          ]
        }
      ],
      "source": [
        "# Creating multi-dimension arrays\n",
        "z = np.array([[1, 2, 3], [6, 7, 8]])\n",
        "print('z = \\n', z)\n",
        "z1 = np.matrix('1 2 3; 6 7 8')\n",
        "print('z1 = \\n', z1)\n"
      ]
    },
    {
      "cell_type": "code",
      "execution_count": 19,
      "metadata": {
        "colab": {
          "base_uri": "https://localhost:8080/"
        },
        "id": "EQmC4phvVFt2",
        "outputId": "d80671fc-e834-42de-b559-c84565e80284"
      },
      "outputs": [
        {
          "data": {
            "text/plain": [
              "array([[1., 1., 1., 1.],\n",
              "       [1., 1., 1., 1.],\n",
              "       [1., 1., 1., 1.],\n",
              "       [1., 1., 1., 1.]])"
            ]
          },
          "execution_count": 19,
          "metadata": {},
          "output_type": "execute_result"
        }
      ],
      "source": [
        "# Matrix with all ones\n",
        "A = np.ones((4, 4))\n",
        "A\n"
      ]
    },
    {
      "cell_type": "code",
      "execution_count": 20,
      "metadata": {
        "colab": {
          "base_uri": "https://localhost:8080/"
        },
        "id": "hbpQStjSVJhI",
        "outputId": "f3be7b4d-96ee-4d2a-9dc0-336e1bedcc0e"
      },
      "outputs": [
        {
          "data": {
            "text/plain": [
              "array([[0., 0., 0., 0.],\n",
              "       [0., 0., 0., 0.],\n",
              "       [0., 0., 0., 0.],\n",
              "       [0., 0., 0., 0.]])"
            ]
          },
          "execution_count": 20,
          "metadata": {},
          "output_type": "execute_result"
        }
      ],
      "source": [
        "# Matrix with all zeros\n",
        "B = np.zeros((4, 4))\n",
        "B"
      ]
    },
    {
      "cell_type": "code",
      "execution_count": 21,
      "metadata": {
        "colab": {
          "base_uri": "https://localhost:8080/"
        },
        "id": "eQyzAMUgVNaY",
        "outputId": "c61cde79-af75-42e2-e978-3b0f3580d9a7"
      },
      "outputs": [
        {
          "name": "stdout",
          "output_type": "stream",
          "text": [
            "C = \n",
            " [[39 32 38 36 24]\n",
            " [47 28 43 49 29]\n",
            " [37 23 31 43 22]\n",
            " [31 24 27 24 49]]\n",
            "C1 = \n",
            " [[ 0  1  2  3]\n",
            " [ 4  5  6  7]\n",
            " [ 8  9 10 11]]\n"
          ]
        }
      ],
      "source": [
        "# Matrix with random values within a range\n",
        "C = np.random.randint(20, 50, (4,5))\n",
        "print(\"C = \\n\", C)\n",
        "# Matrix with range\n",
        "C1 = np.arange(12).reshape((3, 4))\n",
        "print(\"C1 = \\n\", C1)"
      ]
    },
    {
      "cell_type": "code",
      "execution_count": 22,
      "metadata": {
        "colab": {
          "base_uri": "https://localhost:8080/"
        },
        "id": "kSM82eyTVSKN",
        "outputId": "f2db205c-3c20-4362-8303-bae5bcb4a62c"
      },
      "outputs": [
        {
          "name": "stdout",
          "output_type": "stream",
          "text": [
            "D = \n",
            " [[1 0 0 0 0]\n",
            " [0 2 0 0 0]\n",
            " [0 0 3 0 0]\n",
            " [0 0 0 4 0]\n",
            " [0 0 0 0 5]]\n"
          ]
        }
      ],
      "source": [
        "# Diagonal matrix\n",
        "D = np.diag([1, 2, 3, 4, 5])\n",
        "print('D = \\n', D)"
      ]
    },
    {
      "attachments": {},
      "cell_type": "markdown",
      "metadata": {
        "id": "c3pnr8YIVW5r"
      },
      "source": [
        "# Use command to compute the size of a matrix,size/length of a particular row/column, load data from a text file, store matrix data to a text file, finding out variables and their features in the current scope."
      ]
    },
    {
      "cell_type": "code",
      "execution_count": 23,
      "metadata": {
        "colab": {
          "base_uri": "https://localhost:8080/"
        },
        "id": "-jbHjRXZVdDW",
        "outputId": "2c2df958-6e89-46df-8a4b-337cd820189e"
      },
      "outputs": [
        {
          "data": {
            "text/plain": [
              "array([[ 0,  1,  2,  3],\n",
              "       [ 4,  5,  6,  7],\n",
              "       [ 8,  9, 10, 11]])"
            ]
          },
          "execution_count": 23,
          "metadata": {},
          "output_type": "execute_result"
        }
      ],
      "source": [
        "import numpy\n",
        "A = np.arange(12).reshape((3, 4))\n",
        "A"
      ]
    },
    {
      "cell_type": "code",
      "execution_count": 24,
      "metadata": {
        "colab": {
          "base_uri": "https://localhost:8080/"
        },
        "id": "oty3JzzqVkNH",
        "outputId": "aedc4392-70ec-421b-d29f-b3453562ef55"
      },
      "outputs": [
        {
          "data": {
            "text/plain": [
              "12"
            ]
          },
          "execution_count": 24,
          "metadata": {},
          "output_type": "execute_result"
        }
      ],
      "source": [
        "# Size of matrix\n",
        "np.size(A)"
      ]
    },
    {
      "cell_type": "code",
      "execution_count": 25,
      "metadata": {
        "colab": {
          "base_uri": "https://localhost:8080/"
        },
        "id": "HaXK2rxgVsof",
        "outputId": "82db4684-e500-45fe-afe0-703cd19548e3"
      },
      "outputs": [
        {
          "data": {
            "text/plain": [
              "(3, 4)"
            ]
          },
          "execution_count": 25,
          "metadata": {},
          "output_type": "execute_result"
        }
      ],
      "source": [
        "# Shape of matrix\n",
        "A.shape"
      ]
    },
    {
      "cell_type": "code",
      "execution_count": 26,
      "metadata": {
        "colab": {
          "base_uri": "https://localhost:8080/"
        },
        "id": "9ulaSeLRVyJI",
        "outputId": "edd77442-30d8-47b0-e53d-60fd488c2811"
      },
      "outputs": [
        {
          "data": {
            "text/plain": [
              "4"
            ]
          },
          "execution_count": 26,
          "metadata": {},
          "output_type": "execute_result"
        }
      ],
      "source": [
        "# Length of 1st row\n",
        "len(A[0])"
      ]
    },
    {
      "cell_type": "code",
      "execution_count": 27,
      "metadata": {
        "colab": {
          "base_uri": "https://localhost:8080/"
        },
        "id": "223ws0usV13u",
        "outputId": "c8146619-69fa-47f5-e3da-94e0d4539425"
      },
      "outputs": [
        {
          "data": {
            "text/plain": [
              "3"
            ]
          },
          "execution_count": 27,
          "metadata": {},
          "output_type": "execute_result"
        }
      ],
      "source": [
        "# Length of first column\n",
        "np.size(A, 0)"
      ]
    },
    {
      "cell_type": "code",
      "execution_count": 28,
      "metadata": {
        "colab": {
          "base_uri": "https://localhost:8080/",
          "height": 331
        },
        "id": "9Uva_EmcV-Xc",
        "outputId": "e1e00fc3-30ab-4c0a-9f41-5fd86ebe4190"
      },
      "outputs": [
        {
          "data": {
            "text/html": [
              "\n",
              "  <div id=\"df-379d4389-45a5-4826-8bdc-7eea4e8ec88e\">\n",
              "    <div class=\"colab-df-container\">\n",
              "      <div>\n",
              "<style scoped>\n",
              "    .dataframe tbody tr th:only-of-type {\n",
              "        vertical-align: middle;\n",
              "    }\n",
              "\n",
              "    .dataframe tbody tr th {\n",
              "        vertical-align: top;\n",
              "    }\n",
              "\n",
              "    .dataframe thead th {\n",
              "        text-align: right;\n",
              "    }\n",
              "</style>\n",
              "<table border=\"1\" class=\"dataframe\">\n",
              "  <thead>\n",
              "    <tr style=\"text-align: right;\">\n",
              "      <th></th>\n",
              "      <th>Sell</th>\n",
              "      <th>\"List\"</th>\n",
              "      <th>\"Living\"</th>\n",
              "      <th>\"Rooms\"</th>\n",
              "      <th>\"Beds\"</th>\n",
              "      <th>\"Baths\"</th>\n",
              "      <th>\"Age\"</th>\n",
              "      <th>\"Acres\"</th>\n",
              "      <th>\"Taxes\"</th>\n",
              "    </tr>\n",
              "  </thead>\n",
              "  <tbody>\n",
              "    <tr>\n",
              "      <th>0</th>\n",
              "      <td>142</td>\n",
              "      <td>160</td>\n",
              "      <td>28</td>\n",
              "      <td>10</td>\n",
              "      <td>5</td>\n",
              "      <td>3</td>\n",
              "      <td>60</td>\n",
              "      <td>0.28</td>\n",
              "      <td>3167</td>\n",
              "    </tr>\n",
              "    <tr>\n",
              "      <th>1</th>\n",
              "      <td>175</td>\n",
              "      <td>180</td>\n",
              "      <td>18</td>\n",
              "      <td>8</td>\n",
              "      <td>4</td>\n",
              "      <td>1</td>\n",
              "      <td>12</td>\n",
              "      <td>0.43</td>\n",
              "      <td>4033</td>\n",
              "    </tr>\n",
              "    <tr>\n",
              "      <th>2</th>\n",
              "      <td>129</td>\n",
              "      <td>132</td>\n",
              "      <td>13</td>\n",
              "      <td>6</td>\n",
              "      <td>3</td>\n",
              "      <td>1</td>\n",
              "      <td>41</td>\n",
              "      <td>0.33</td>\n",
              "      <td>1471</td>\n",
              "    </tr>\n",
              "    <tr>\n",
              "      <th>3</th>\n",
              "      <td>138</td>\n",
              "      <td>140</td>\n",
              "      <td>17</td>\n",
              "      <td>7</td>\n",
              "      <td>3</td>\n",
              "      <td>1</td>\n",
              "      <td>22</td>\n",
              "      <td>0.46</td>\n",
              "      <td>3204</td>\n",
              "    </tr>\n",
              "    <tr>\n",
              "      <th>4</th>\n",
              "      <td>232</td>\n",
              "      <td>240</td>\n",
              "      <td>25</td>\n",
              "      <td>8</td>\n",
              "      <td>4</td>\n",
              "      <td>3</td>\n",
              "      <td>5</td>\n",
              "      <td>2.05</td>\n",
              "      <td>3613</td>\n",
              "    </tr>\n",
              "    <tr>\n",
              "      <th>5</th>\n",
              "      <td>135</td>\n",
              "      <td>140</td>\n",
              "      <td>18</td>\n",
              "      <td>7</td>\n",
              "      <td>4</td>\n",
              "      <td>3</td>\n",
              "      <td>9</td>\n",
              "      <td>0.57</td>\n",
              "      <td>3028</td>\n",
              "    </tr>\n",
              "    <tr>\n",
              "      <th>6</th>\n",
              "      <td>150</td>\n",
              "      <td>160</td>\n",
              "      <td>20</td>\n",
              "      <td>8</td>\n",
              "      <td>4</td>\n",
              "      <td>3</td>\n",
              "      <td>18</td>\n",
              "      <td>4.00</td>\n",
              "      <td>3131</td>\n",
              "    </tr>\n",
              "    <tr>\n",
              "      <th>7</th>\n",
              "      <td>207</td>\n",
              "      <td>225</td>\n",
              "      <td>22</td>\n",
              "      <td>8</td>\n",
              "      <td>4</td>\n",
              "      <td>2</td>\n",
              "      <td>16</td>\n",
              "      <td>2.22</td>\n",
              "      <td>5158</td>\n",
              "    </tr>\n",
              "    <tr>\n",
              "      <th>8</th>\n",
              "      <td>271</td>\n",
              "      <td>285</td>\n",
              "      <td>30</td>\n",
              "      <td>10</td>\n",
              "      <td>5</td>\n",
              "      <td>2</td>\n",
              "      <td>30</td>\n",
              "      <td>0.53</td>\n",
              "      <td>5702</td>\n",
              "    </tr>\n",
              "  </tbody>\n",
              "</table>\n",
              "</div>\n",
              "      <button class=\"colab-df-convert\" onclick=\"convertToInteractive('df-379d4389-45a5-4826-8bdc-7eea4e8ec88e')\"\n",
              "              title=\"Convert this dataframe to an interactive table.\"\n",
              "              style=\"display:none;\">\n",
              "        \n",
              "  <svg xmlns=\"http://www.w3.org/2000/svg\" height=\"24px\"viewBox=\"0 0 24 24\"\n",
              "       width=\"24px\">\n",
              "    <path d=\"M0 0h24v24H0V0z\" fill=\"none\"/>\n",
              "    <path d=\"M18.56 5.44l.94 2.06.94-2.06 2.06-.94-2.06-.94-.94-2.06-.94 2.06-2.06.94zm-11 1L8.5 8.5l.94-2.06 2.06-.94-2.06-.94L8.5 2.5l-.94 2.06-2.06.94zm10 10l.94 2.06.94-2.06 2.06-.94-2.06-.94-.94-2.06-.94 2.06-2.06.94z\"/><path d=\"M17.41 7.96l-1.37-1.37c-.4-.4-.92-.59-1.43-.59-.52 0-1.04.2-1.43.59L10.3 9.45l-7.72 7.72c-.78.78-.78 2.05 0 2.83L4 21.41c.39.39.9.59 1.41.59.51 0 1.02-.2 1.41-.59l7.78-7.78 2.81-2.81c.8-.78.8-2.07 0-2.86zM5.41 20L4 18.59l7.72-7.72 1.47 1.35L5.41 20z\"/>\n",
              "  </svg>\n",
              "      </button>\n",
              "      \n",
              "  <style>\n",
              "    .colab-df-container {\n",
              "      display:flex;\n",
              "      flex-wrap:wrap;\n",
              "      gap: 12px;\n",
              "    }\n",
              "\n",
              "    .colab-df-convert {\n",
              "      background-color: #E8F0FE;\n",
              "      border: none;\n",
              "      border-radius: 50%;\n",
              "      cursor: pointer;\n",
              "      display: none;\n",
              "      fill: #1967D2;\n",
              "      height: 32px;\n",
              "      padding: 0 0 0 0;\n",
              "      width: 32px;\n",
              "    }\n",
              "\n",
              "    .colab-df-convert:hover {\n",
              "      background-color: #E2EBFA;\n",
              "      box-shadow: 0px 1px 2px rgba(60, 64, 67, 0.3), 0px 1px 3px 1px rgba(60, 64, 67, 0.15);\n",
              "      fill: #174EA6;\n",
              "    }\n",
              "\n",
              "    [theme=dark] .colab-df-convert {\n",
              "      background-color: #3B4455;\n",
              "      fill: #D2E3FC;\n",
              "    }\n",
              "\n",
              "    [theme=dark] .colab-df-convert:hover {\n",
              "      background-color: #434B5C;\n",
              "      box-shadow: 0px 1px 3px 1px rgba(0, 0, 0, 0.15);\n",
              "      filter: drop-shadow(0px 1px 2px rgba(0, 0, 0, 0.3));\n",
              "      fill: #FFFFFF;\n",
              "    }\n",
              "  </style>\n",
              "\n",
              "      <script>\n",
              "        const buttonEl =\n",
              "          document.querySelector('#df-379d4389-45a5-4826-8bdc-7eea4e8ec88e button.colab-df-convert');\n",
              "        buttonEl.style.display =\n",
              "          google.colab.kernel.accessAllowed ? 'block' : 'none';\n",
              "\n",
              "        async function convertToInteractive(key) {\n",
              "          const element = document.querySelector('#df-379d4389-45a5-4826-8bdc-7eea4e8ec88e');\n",
              "          const dataTable =\n",
              "            await google.colab.kernel.invokeFunction('convertToInteractive',\n",
              "                                                     [key], {});\n",
              "          if (!dataTable) return;\n",
              "\n",
              "          const docLinkHtml = 'Like what you see? Visit the ' +\n",
              "            '<a target=\"_blank\" href=https://colab.research.google.com/notebooks/data_table.ipynb>data table notebook</a>'\n",
              "            + ' to learn more about interactive tables.';\n",
              "          element.innerHTML = '';\n",
              "          dataTable['output_type'] = 'display_data';\n",
              "          await google.colab.output.renderOutput(dataTable, element);\n",
              "          const docLink = document.createElement('div');\n",
              "          docLink.innerHTML = docLinkHtml;\n",
              "          element.appendChild(docLink);\n",
              "        }\n",
              "      </script>\n",
              "    </div>\n",
              "  </div>\n",
              "  "
            ],
            "text/plain": [
              "   Sell   \"List\"   \"Living\"   \"Rooms\"   \"Beds\"   \"Baths\"   \"Age\"   \"Acres\"  \\\n",
              "0   142      160         28        10        5         3      60      0.28   \n",
              "1   175      180         18         8        4         1      12      0.43   \n",
              "2   129      132         13         6        3         1      41      0.33   \n",
              "3   138      140         17         7        3         1      22      0.46   \n",
              "4   232      240         25         8        4         3       5      2.05   \n",
              "5   135      140         18         7        4         3       9      0.57   \n",
              "6   150      160         20         8        4         3      18      4.00   \n",
              "7   207      225         22         8        4         2      16      2.22   \n",
              "8   271      285         30        10        5         2      30      0.53   \n",
              "\n",
              "    \"Taxes\"  \n",
              "0      3167  \n",
              "1      4033  \n",
              "2      1471  \n",
              "3      3204  \n",
              "4      3613  \n",
              "5      3028  \n",
              "6      3131  \n",
              "7      5158  \n",
              "8      5702  "
            ]
          },
          "execution_count": 28,
          "metadata": {},
          "output_type": "execute_result"
        }
      ],
      "source": [
        "# Loading data from text file\n",
        "import pandas as pd\n",
        "df = pd.read_csv('/content/input.txt')\n",
        "df"
      ]
    },
    {
      "cell_type": "code",
      "execution_count": 29,
      "metadata": {
        "colab": {
          "base_uri": "https://localhost:8080/",
          "height": 175
        },
        "id": "fVkT9Jq5W8Px",
        "outputId": "8eb166b0-0e72-4ed7-c91c-b90292c69051"
      },
      "outputs": [
        {
          "data": {
            "text/html": [
              "\n",
              "  <div id=\"df-d899d2f5-023b-4274-89b2-3a51aaad7d01\">\n",
              "    <div class=\"colab-df-container\">\n",
              "      <div>\n",
              "<style scoped>\n",
              "    .dataframe tbody tr th:only-of-type {\n",
              "        vertical-align: middle;\n",
              "    }\n",
              "\n",
              "    .dataframe tbody tr th {\n",
              "        vertical-align: top;\n",
              "    }\n",
              "\n",
              "    .dataframe thead th {\n",
              "        text-align: right;\n",
              "    }\n",
              "</style>\n",
              "<table border=\"1\" class=\"dataframe\">\n",
              "  <thead>\n",
              "    <tr style=\"text-align: right;\">\n",
              "      <th></th>\n",
              "      <th>Sell</th>\n",
              "      <th>\"List\"</th>\n",
              "      <th>\"Living\"</th>\n",
              "      <th>\"Rooms\"</th>\n",
              "      <th>\"Beds\"</th>\n",
              "      <th>\"Baths\"</th>\n",
              "      <th>\"Age\"</th>\n",
              "      <th>\"Acres\"</th>\n",
              "      <th>\"Taxes\"</th>\n",
              "    </tr>\n",
              "  </thead>\n",
              "  <tbody>\n",
              "    <tr>\n",
              "      <th>0</th>\n",
              "      <td>142</td>\n",
              "      <td>160</td>\n",
              "      <td>28</td>\n",
              "      <td>10</td>\n",
              "      <td>5</td>\n",
              "      <td>3</td>\n",
              "      <td>60</td>\n",
              "      <td>0.28</td>\n",
              "      <td>3167</td>\n",
              "    </tr>\n",
              "    <tr>\n",
              "      <th>1</th>\n",
              "      <td>175</td>\n",
              "      <td>180</td>\n",
              "      <td>18</td>\n",
              "      <td>8</td>\n",
              "      <td>4</td>\n",
              "      <td>1</td>\n",
              "      <td>12</td>\n",
              "      <td>0.43</td>\n",
              "      <td>4033</td>\n",
              "    </tr>\n",
              "    <tr>\n",
              "      <th>2</th>\n",
              "      <td>129</td>\n",
              "      <td>132</td>\n",
              "      <td>13</td>\n",
              "      <td>6</td>\n",
              "      <td>3</td>\n",
              "      <td>1</td>\n",
              "      <td>41</td>\n",
              "      <td>0.33</td>\n",
              "      <td>1471</td>\n",
              "    </tr>\n",
              "    <tr>\n",
              "      <th>3</th>\n",
              "      <td>138</td>\n",
              "      <td>140</td>\n",
              "      <td>17</td>\n",
              "      <td>7</td>\n",
              "      <td>3</td>\n",
              "      <td>1</td>\n",
              "      <td>22</td>\n",
              "      <td>0.46</td>\n",
              "      <td>3204</td>\n",
              "    </tr>\n",
              "  </tbody>\n",
              "</table>\n",
              "</div>\n",
              "      <button class=\"colab-df-convert\" onclick=\"convertToInteractive('df-d899d2f5-023b-4274-89b2-3a51aaad7d01')\"\n",
              "              title=\"Convert this dataframe to an interactive table.\"\n",
              "              style=\"display:none;\">\n",
              "        \n",
              "  <svg xmlns=\"http://www.w3.org/2000/svg\" height=\"24px\"viewBox=\"0 0 24 24\"\n",
              "       width=\"24px\">\n",
              "    <path d=\"M0 0h24v24H0V0z\" fill=\"none\"/>\n",
              "    <path d=\"M18.56 5.44l.94 2.06.94-2.06 2.06-.94-2.06-.94-.94-2.06-.94 2.06-2.06.94zm-11 1L8.5 8.5l.94-2.06 2.06-.94-2.06-.94L8.5 2.5l-.94 2.06-2.06.94zm10 10l.94 2.06.94-2.06 2.06-.94-2.06-.94-.94-2.06-.94 2.06-2.06.94z\"/><path d=\"M17.41 7.96l-1.37-1.37c-.4-.4-.92-.59-1.43-.59-.52 0-1.04.2-1.43.59L10.3 9.45l-7.72 7.72c-.78.78-.78 2.05 0 2.83L4 21.41c.39.39.9.59 1.41.59.51 0 1.02-.2 1.41-.59l7.78-7.78 2.81-2.81c.8-.78.8-2.07 0-2.86zM5.41 20L4 18.59l7.72-7.72 1.47 1.35L5.41 20z\"/>\n",
              "  </svg>\n",
              "      </button>\n",
              "      \n",
              "  <style>\n",
              "    .colab-df-container {\n",
              "      display:flex;\n",
              "      flex-wrap:wrap;\n",
              "      gap: 12px;\n",
              "    }\n",
              "\n",
              "    .colab-df-convert {\n",
              "      background-color: #E8F0FE;\n",
              "      border: none;\n",
              "      border-radius: 50%;\n",
              "      cursor: pointer;\n",
              "      display: none;\n",
              "      fill: #1967D2;\n",
              "      height: 32px;\n",
              "      padding: 0 0 0 0;\n",
              "      width: 32px;\n",
              "    }\n",
              "\n",
              "    .colab-df-convert:hover {\n",
              "      background-color: #E2EBFA;\n",
              "      box-shadow: 0px 1px 2px rgba(60, 64, 67, 0.3), 0px 1px 3px 1px rgba(60, 64, 67, 0.15);\n",
              "      fill: #174EA6;\n",
              "    }\n",
              "\n",
              "    [theme=dark] .colab-df-convert {\n",
              "      background-color: #3B4455;\n",
              "      fill: #D2E3FC;\n",
              "    }\n",
              "\n",
              "    [theme=dark] .colab-df-convert:hover {\n",
              "      background-color: #434B5C;\n",
              "      box-shadow: 0px 1px 3px 1px rgba(0, 0, 0, 0.15);\n",
              "      filter: drop-shadow(0px 1px 2px rgba(0, 0, 0, 0.3));\n",
              "      fill: #FFFFFF;\n",
              "    }\n",
              "  </style>\n",
              "\n",
              "      <script>\n",
              "        const buttonEl =\n",
              "          document.querySelector('#df-d899d2f5-023b-4274-89b2-3a51aaad7d01 button.colab-df-convert');\n",
              "        buttonEl.style.display =\n",
              "          google.colab.kernel.accessAllowed ? 'block' : 'none';\n",
              "\n",
              "        async function convertToInteractive(key) {\n",
              "          const element = document.querySelector('#df-d899d2f5-023b-4274-89b2-3a51aaad7d01');\n",
              "          const dataTable =\n",
              "            await google.colab.kernel.invokeFunction('convertToInteractive',\n",
              "                                                     [key], {});\n",
              "          if (!dataTable) return;\n",
              "\n",
              "          const docLinkHtml = 'Like what you see? Visit the ' +\n",
              "            '<a target=\"_blank\" href=https://colab.research.google.com/notebooks/data_table.ipynb>data table notebook</a>'\n",
              "            + ' to learn more about interactive tables.';\n",
              "          element.innerHTML = '';\n",
              "          dataTable['output_type'] = 'display_data';\n",
              "          await google.colab.output.renderOutput(dataTable, element);\n",
              "          const docLink = document.createElement('div');\n",
              "          docLink.innerHTML = docLinkHtml;\n",
              "          element.appendChild(docLink);\n",
              "        }\n",
              "      </script>\n",
              "    </div>\n",
              "  </div>\n",
              "  "
            ],
            "text/plain": [
              "   Sell   \"List\"   \"Living\"   \"Rooms\"   \"Beds\"   \"Baths\"   \"Age\"   \"Acres\"  \\\n",
              "0   142      160         28        10        5         3      60      0.28   \n",
              "1   175      180         18         8        4         1      12      0.43   \n",
              "2   129      132         13         6        3         1      41      0.33   \n",
              "3   138      140         17         7        3         1      22      0.46   \n",
              "\n",
              "    \"Taxes\"  \n",
              "0      3167  \n",
              "1      4033  \n",
              "2      1471  \n",
              "3      3204  "
            ]
          },
          "execution_count": 29,
          "metadata": {},
          "output_type": "execute_result"
        }
      ],
      "source": [
        "df.drop(df.tail(5).index,inplace=True)\n",
        "df"
      ]
    },
    {
      "cell_type": "code",
      "execution_count": 30,
      "metadata": {
        "id": "4ZqfNfJBXGEI"
      },
      "outputs": [],
      "source": [
        "# Saving data to txt file\n",
        "df.to_csv('output.txt', sep=' ')"
      ]
    },
    {
      "cell_type": "code",
      "execution_count": 31,
      "metadata": {
        "colab": {
          "base_uri": "https://localhost:8080/"
        },
        "id": "qT_U9TKPXZuk",
        "outputId": "cf76ea61-5353-4684-c7e3-9704fa8ad45e"
      },
      "outputs": [
        {
          "data": {
            "text/plain": [
              "array(['Sell', ' \"List\"', ' \"Living\"', ' \"Rooms\"', ' \"Beds\"', ' \"Baths\"',\n",
              "       ' \"Age\"', ' \"Acres\"', ' \"Taxes\"'], dtype=object)"
            ]
          },
          "execution_count": 31,
          "metadata": {},
          "output_type": "execute_result"
        }
      ],
      "source": [
        "# List of features\n",
        "df.columns.values"
      ]
    },
    {
      "attachments": {},
      "cell_type": "markdown",
      "metadata": {
        "id": "2O7ttfEcXeOG"
      },
      "source": [
        "# Perform basic operations on matrices (like addition, subtraction, multiplication) and display specific rows or columns of the matrix."
      ]
    },
    {
      "cell_type": "code",
      "execution_count": 32,
      "metadata": {
        "colab": {
          "base_uri": "https://localhost:8080/"
        },
        "id": "4czBUWhpXleL",
        "outputId": "f785cce6-df38-4a48-c556-53f9e1bfd0ee"
      },
      "outputs": [
        {
          "name": "stdout",
          "output_type": "stream",
          "text": [
            "A = \n",
            " [[  3   6   9]\n",
            " [  5 -10  15]\n",
            " [ -7  14  21]] \n",
            "B = \n",
            " [[  9 -18  27]\n",
            " [ 11  22  33]\n",
            " [ 13 -26  39]]\n"
          ]
        }
      ],
      "source": [
        "import numpy as np\n",
        "A = np.array([[3, 6, 9], [5, -10, 15], [-7, 14, 21]])\n",
        "B = np.array([[9, -18, 27], [11, 22, 33], [13, -26, 39]])\n",
        "print(\"A = \\n\", A, \"\\nB = \\n\", B)"
      ]
    },
    {
      "cell_type": "code",
      "execution_count": 33,
      "metadata": {
        "colab": {
          "base_uri": "https://localhost:8080/"
        },
        "id": "6HV-XA1FXthP",
        "outputId": "73be5068-618e-4276-87df-f7250fc92fe0"
      },
      "outputs": [
        {
          "name": "stdout",
          "output_type": "stream",
          "text": [
            "C = A + B =\n",
            " [[ 12 -12  36]\n",
            " [ 16  12  48]\n",
            " [  6 -12  60]]\n"
          ]
        }
      ],
      "source": [
        "# Matrix Addition\n",
        "C = A + B\n",
        "print('C = A + B =\\n', C)"
      ]
    },
    {
      "cell_type": "code",
      "execution_count": 34,
      "metadata": {
        "colab": {
          "base_uri": "https://localhost:8080/"
        },
        "id": "ek2S2-VAXxD6",
        "outputId": "a018a263-37fb-4de5-b15a-923994629cc0"
      },
      "outputs": [
        {
          "name": "stdout",
          "output_type": "stream",
          "text": [
            "C = A - B =\n",
            " [[ -6  24 -18]\n",
            " [ -6 -32 -18]\n",
            " [-20  40 -18]]\n"
          ]
        }
      ],
      "source": [
        "# Matrix Subtraction\n",
        "C = A - B\n",
        "print('C = A - B =\\n', C)"
      ]
    },
    {
      "cell_type": "code",
      "execution_count": 35,
      "metadata": {
        "colab": {
          "base_uri": "https://localhost:8080/"
        },
        "id": "-aiobsTQX0IP",
        "outputId": "f0e20ce7-17a6-43fd-b846-b6587f281715"
      },
      "outputs": [
        {
          "name": "stdout",
          "output_type": "stream",
          "text": [
            "C = A * B =\n",
            " [[ 210 -156  630]\n",
            " [ 130 -700  390]\n",
            " [ 364 -112 1092]]\n"
          ]
        }
      ],
      "source": [
        "# Matrix Multiplication\n",
        "C = A.dot(B)\n",
        "print('C = A * B =\\n', C)"
      ]
    },
    {
      "cell_type": "code",
      "execution_count": 36,
      "metadata": {
        "colab": {
          "base_uri": "https://localhost:8080/"
        },
        "id": "2SVAkO8vX3RD",
        "outputId": "c1651733-66f3-4af8-aa44-d11421c3ab14"
      },
      "outputs": [
        {
          "name": "stdout",
          "output_type": "stream",
          "text": [
            "[[  5 -10  15]]\n"
          ]
        }
      ],
      "source": [
        "# Print 2nd row of Matrix A\n",
        "print(A[1:2])"
      ]
    },
    {
      "cell_type": "code",
      "execution_count": 37,
      "metadata": {
        "colab": {
          "base_uri": "https://localhost:8080/"
        },
        "id": "gU3yvhiPX8ok",
        "outputId": "a3bedee7-80ab-4cfd-b06f-71347f0475c3"
      },
      "outputs": [
        {
          "name": "stdout",
          "output_type": "stream",
          "text": [
            "[[  9 -18  27]]\n"
          ]
        }
      ],
      "source": [
        "# Print 1st row of Matrix B\n",
        "print(B[:1])"
      ]
    },
    {
      "cell_type": "code",
      "execution_count": 38,
      "metadata": {
        "colab": {
          "base_uri": "https://localhost:8080/"
        },
        "id": "1KSECE8sX_5q",
        "outputId": "03b129d0-7c57-4a73-f24b-05b7e1316e68"
      },
      "outputs": [
        {
          "name": "stdout",
          "output_type": "stream",
          "text": [
            "[[  6]\n",
            " [-10]\n",
            " [ 14]]\n"
          ]
        }
      ],
      "source": [
        "# Print 2nd column of Matrix A\n",
        "print(A[:,1:2])"
      ]
    },
    {
      "cell_type": "code",
      "execution_count": 39,
      "metadata": {
        "colab": {
          "base_uri": "https://localhost:8080/"
        },
        "id": "4F-uLsvJYDtQ",
        "outputId": "497bb766-42e7-4282-e1c7-0d33fb4ac7c0"
      },
      "outputs": [
        {
          "name": "stdout",
          "output_type": "stream",
          "text": [
            "[[27]\n",
            " [33]\n",
            " [39]]\n"
          ]
        }
      ],
      "source": [
        "# Print 3rd column of Matrix B\n",
        "print(B[:,2:3])"
      ]
    },
    {
      "attachments": {},
      "cell_type": "markdown",
      "metadata": {
        "id": "udqjrY-QYH1C"
      },
      "source": [
        "# Perform other matrix operations like converting matrix data to absolute values, taking the negative of matrix values, additing/removing rows/columns from a matrix, finding the maximum or minimum values in a matrix or in a row/column, and finding the sum of some/all elements in a matrix."
      ]
    },
    {
      "cell_type": "code",
      "execution_count": 40,
      "metadata": {
        "colab": {
          "base_uri": "https://localhost:8080/"
        },
        "id": "AKW4kozYYXgt",
        "outputId": "adbd235b-b36c-4f69-fce3-6e72607ba8f0"
      },
      "outputs": [
        {
          "name": "stdout",
          "output_type": "stream",
          "text": [
            "A = \n",
            " [[  3   6   9]\n",
            " [  5 -10  15]\n",
            " [ -7  14  21]] \n",
            "B = \n",
            " [[  9 -18  27]\n",
            " [ 11  22  33]\n",
            " [ 13 -26  39]]\n"
          ]
        }
      ],
      "source": [
        "import numpy as np\n",
        "A = np.array([[3, 6, 9], [5, -10, 15], [-7, 14, 21]])\n",
        "B = np.array([[9, -18, 27], [11, 22, 33], [13, -26, 39]])\n",
        "print(\"A = \\n\", A, \"\\nB = \\n\", B)"
      ]
    },
    {
      "cell_type": "code",
      "execution_count": 41,
      "metadata": {
        "colab": {
          "base_uri": "https://localhost:8080/"
        },
        "id": "z-pexmzJYdN0",
        "outputId": "a1ca1c3c-a314-49a4-d536-f6cf08bea4aa"
      },
      "outputs": [
        {
          "data": {
            "text/plain": [
              "array([[ 3,  6,  9],\n",
              "       [ 5, 10, 15],\n",
              "       [ 7, 14, 21]])"
            ]
          },
          "execution_count": 41,
          "metadata": {},
          "output_type": "execute_result"
        }
      ],
      "source": [
        "# Converting matrix A data to its absolute values\n",
        "np.absolute(A)"
      ]
    },
    {
      "cell_type": "code",
      "execution_count": 42,
      "metadata": {
        "colab": {
          "base_uri": "https://localhost:8080/"
        },
        "id": "as7hMURTYgWF",
        "outputId": "46642413-c820-420b-85c6-f4b24190b0b4"
      },
      "outputs": [
        {
          "data": {
            "text/plain": [
              "array([[ -9,  18, -27],\n",
              "       [-11, -22, -33],\n",
              "       [-13,  26, -39]])"
            ]
          },
          "execution_count": 42,
          "metadata": {},
          "output_type": "execute_result"
        }
      ],
      "source": [
        "# Converting matrix B data to its negative values\n",
        "np.negative(B)"
      ]
    },
    {
      "cell_type": "code",
      "execution_count": 43,
      "metadata": {
        "colab": {
          "base_uri": "https://localhost:8080/"
        },
        "id": "l-cR-RmBYjOc",
        "outputId": "14baf574-5497-4d6a-8beb-e5a1087ebb8b"
      },
      "outputs": [
        {
          "data": {
            "text/plain": [
              "array([[ 3,  6,  9],\n",
              "       [-7, 14, 21]])"
            ]
          },
          "execution_count": 43,
          "metadata": {},
          "output_type": "execute_result"
        }
      ],
      "source": [
        "# Deleting a row from Matrix A\n",
        "np.delete(A, 1, 0)"
      ]
    },
    {
      "cell_type": "code",
      "execution_count": 44,
      "metadata": {
        "colab": {
          "base_uri": "https://localhost:8080/"
        },
        "id": "tka1DN1CYnKn",
        "outputId": "06dc5806-28a3-4313-e42f-5ce3890f3f5f"
      },
      "outputs": [
        {
          "data": {
            "text/plain": [
              "array([[-18,  27],\n",
              "       [ 22,  33],\n",
              "       [-26,  39]])"
            ]
          },
          "execution_count": 44,
          "metadata": {},
          "output_type": "execute_result"
        }
      ],
      "source": [
        "# Deleting a column from Matrix B\n",
        "np.delete(B, 0, 1)"
      ]
    },
    {
      "cell_type": "code",
      "execution_count": 45,
      "metadata": {
        "colab": {
          "base_uri": "https://localhost:8080/"
        },
        "id": "VUC0Hp4tYqQ7",
        "outputId": "b819ce31-d96b-4dce-d0d3-e96b95d3ccd8"
      },
      "outputs": [
        {
          "data": {
            "text/plain": [
              "array([[  3,   6,   9],\n",
              "       [  5, -10,  15],\n",
              "       [ -7,  14,  21],\n",
              "       [ 23, -45,  56]])"
            ]
          },
          "execution_count": 45,
          "metadata": {},
          "output_type": "execute_result"
        }
      ],
      "source": [
        "# Adding a row to Matrix A\n",
        "np.append(A, np.array([[23, -45, 56]]), axis=0)"
      ]
    },
    {
      "cell_type": "code",
      "execution_count": 46,
      "metadata": {
        "colab": {
          "base_uri": "https://localhost:8080/"
        },
        "id": "q4Ar0UdOYvUP",
        "outputId": "0ed74730-673a-4874-e415-0eda64691ba3"
      },
      "outputs": [
        {
          "data": {
            "text/plain": [
              "array([[  9, -18,  27,  23],\n",
              "       [ 11,  22,  33, -45],\n",
              "       [ 13, -26,  39,  56]])"
            ]
          },
          "execution_count": 46,
          "metadata": {},
          "output_type": "execute_result"
        }
      ],
      "source": [
        "# Adding a column to Matrix B\n",
        "np.append(B, [[23], [-45], [56]], axis=1)"
      ]
    },
    {
      "cell_type": "code",
      "execution_count": 47,
      "metadata": {
        "colab": {
          "base_uri": "https://localhost:8080/"
        },
        "id": "YHJI7keAYxpi",
        "outputId": "900cf177-feb9-41b2-9ba5-0abee1b6365f"
      },
      "outputs": [
        {
          "data": {
            "text/plain": [
              "14"
            ]
          },
          "execution_count": 47,
          "metadata": {},
          "output_type": "execute_result"
        }
      ],
      "source": [
        "# Maximum of 2nd row of Matrix A\n",
        "np.max(A, 0)[1]"
      ]
    },
    {
      "cell_type": "code",
      "execution_count": 48,
      "metadata": {
        "colab": {
          "base_uri": "https://localhost:8080/"
        },
        "id": "1wdDiK2KY0t0",
        "outputId": "464c8e03-e3a6-48e8-8cea-d47659394ea5"
      },
      "outputs": [
        {
          "data": {
            "text/plain": [
              "-10"
            ]
          },
          "execution_count": 48,
          "metadata": {},
          "output_type": "execute_result"
        }
      ],
      "source": [
        "# Minimum of 2nd row of Matrix A\n",
        "np.min(A, 0)[1]"
      ]
    },
    {
      "cell_type": "code",
      "execution_count": 49,
      "metadata": {
        "colab": {
          "base_uri": "https://localhost:8080/"
        },
        "id": "JxsAtzxSY6Aj",
        "outputId": "1b5ad403-14fd-4127-bdd3-4f65947cb84f"
      },
      "outputs": [
        {
          "data": {
            "text/plain": [
              "39"
            ]
          },
          "execution_count": 49,
          "metadata": {},
          "output_type": "execute_result"
        }
      ],
      "source": [
        "# Maximum of 3rd column of Matrix B\n",
        "np.max(B, 1)[2]"
      ]
    },
    {
      "cell_type": "code",
      "execution_count": 50,
      "metadata": {
        "colab": {
          "base_uri": "https://localhost:8080/"
        },
        "id": "Bs8lRIKYY8ow",
        "outputId": "df88b528-0369-48b2-ab80-f1c659c39af2"
      },
      "outputs": [
        {
          "data": {
            "text/plain": [
              "-26"
            ]
          },
          "execution_count": 50,
          "metadata": {},
          "output_type": "execute_result"
        }
      ],
      "source": [
        "# Minimum of 3rd column of Matrix B\n",
        "np.min(B, 1)[2]"
      ]
    },
    {
      "cell_type": "code",
      "execution_count": 51,
      "metadata": {
        "colab": {
          "base_uri": "https://localhost:8080/"
        },
        "id": "r5n6IzzvZCBy",
        "outputId": "f588847a-0610-4636-e23d-0d17b41072d5"
      },
      "outputs": [
        {
          "data": {
            "text/plain": [
              "40"
            ]
          },
          "execution_count": 51,
          "metadata": {},
          "output_type": "execute_result"
        }
      ],
      "source": [
        "# Sum of some elements of array\n",
        "np.sum(A[1:, 1:])"
      ]
    },
    {
      "cell_type": "code",
      "execution_count": 52,
      "metadata": {
        "colab": {
          "base_uri": "https://localhost:8080/"
        },
        "id": "V2Gg23WAZDrD",
        "outputId": "a9f90346-82b4-4231-d93f-c361bb52f3d0"
      },
      "outputs": [
        {
          "name": "stdout",
          "output_type": "stream",
          "text": [
            "sumA =  56 , sumB =  110\n"
          ]
        }
      ],
      "source": [
        "# Sum of all elements of array\n",
        "sumA = np.sum(A)\n",
        "sumB = np.sum(B)\n",
        "print('sumA = ', sumA, ', sumB = ', sumB)"
      ]
    },
    {
      "attachments": {},
      "cell_type": "markdown",
      "metadata": {
        "id": "gxLepzwHZKbv"
      },
      "source": [
        "# Create various type of plots/charts like histograms, plot based on sine/cosine function based on data from a matrix. Further label different axes in a plot and data in a plot.\n"
      ]
    },
    {
      "cell_type": "code",
      "execution_count": 55,
      "metadata": {
        "colab": {
          "base_uri": "https://localhost:8080/",
          "height": 472
        },
        "id": "XtFQFzFdZQHs",
        "outputId": "ee12f98a-adef-406a-87e7-0c63b6794441"
      },
      "outputs": [
        {
          "data": {
            "image/png": "[encoded data removed]",
            "text/plain": [
              "<Figure size 640x480 with 1 Axes>"
            ]
          },
          "metadata": {},
          "output_type": "display_data"
        }
      ],
      "source": [
        "import numpy as np\n",
        "import matplotlib.pyplot as plt\n",
        "# Histogram\n",
        "list = np.array([20, 45, 45, 35, 30, 10, 30, 20, 20, 50, 30, 20, 20, 10, 45,25])\n",
        "plt.hist(list)\n",
        "plt.xlabel('Integer')\n",
        "plt.ylabel('Frequency')\n",
        "plt.title('Histogram')\n",
        "plt.show()"
      ]
    },
    {
      "cell_type": "code",
      "execution_count": 56,
      "metadata": {
        "colab": {
          "base_uri": "https://localhost:8080/",
          "height": 472
        },
        "id": "jI2p0ZVgZux4",
        "outputId": "231b75d0-4d9c-472f-e6b3-a97740a339fe"
      },
      "outputs": [
        {
          "data": {
            "image/png": "[encoded data removed]",
            "text/plain": [
              "<Figure size 640x480 with 1 Axes>"
            ]
          },
          "metadata": {},
          "output_type": "display_data"
        }
      ],
      "source": [
        "import math\n",
        "# Sine curve\n",
        "degrees = range(0 , 720)\n",
        "sinValues = [math.sin(math.radians(i)) for i in degrees]\n",
        "plt.plot(sinValues)\n",
        "plt.xlabel('Degrees')\n",
        "plt.ylabel('Sin Values')\n",
        "plt.title('Sine Curve')\n",
        "plt.grid()\n",
        "plt.show()"
      ]
    },
    {
      "cell_type": "code",
      "execution_count": 57,
      "metadata": {
        "colab": {
          "base_uri": "https://localhost:8080/",
          "height": 472
        },
        "id": "6PvTuCmeZUGd",
        "outputId": "e9b3186b-02b6-4f5f-ca9d-b0e1326b1a11"
      },
      "outputs": [
        {
          "data": {
            "image/png": "[encoded data removed]",
            "text/plain": [
              "<Figure size 640x480 with 1 Axes>"
            ]
          },
          "metadata": {},
          "output_type": "display_data"
        }
      ],
      "source": [
        "# Cosine curve\n",
        "degrees = range(0 , 720)\n",
        "sinValues = [math.cos(math.radians(i)) for i in degrees]\n",
        "plt.plot(sinValues)\n",
        "plt.xlabel('Degrees')\n",
        "plt.ylabel('Cosine Values')\n",
        "plt.title('Cosine Curve')\n",
        "plt.grid()\n",
        "plt.show()"
      ]
    },
    {
      "attachments": {},
      "cell_type": "markdown",
      "metadata": {
        "id": "x2Nn1nQ7Z7V5"
      },
      "source": [
        "# Generate different subplots from a given plot and color plot data.\n"
      ]
    },
    {
      "cell_type": "code",
      "execution_count": 58,
      "metadata": {
        "colab": {
          "base_uri": "https://localhost:8080/",
          "height": 447
        },
        "id": "RL2t7I7VZ_UV",
        "outputId": "4101d315-15a7-45ff-abe8-7a2e38a9ea97"
      },
      "outputs": [
        {
          "data": {
            "text/plain": [
              "[<matplotlib.lines.Line2D at 0x7f22241287f0>]"
            ]
          },
          "execution_count": 58,
          "metadata": {},
          "output_type": "execute_result"
        },
        {
          "data": {
            "image/png": "[encoded data removed]",
            "text/plain": [
              "<Figure size 640x480 with 4 Axes>"
            ]
          },
          "metadata": {},
          "output_type": "display_data"
        }
      ],
      "source": [
        "import matplotlib.pyplot as plt\n",
        "import numpy as np\n",
        "# Data for plotting\n",
        "x = np.arange(0.0, 2.0, 0.01)\n",
        "y = 1 + np.sin(2 * np.pi * x)\n",
        "# Creating 6 subplots and unpacking the output array immediately\n",
        "fig, ((ax1, ax2), (ax3, ax4)) = plt.subplots(2, 2)\n",
        "ax1.plot(x, y, color=\"orange\")\n",
        "ax2.plot(x[3:30], y[3:30], color=\"green\")\n",
        "ax3.plot(x[30:90], y[30:90], color=\"blue\")\n",
        "ax4.plot(x[90:150], y[90:150], color=\"magenta\")"
      ]
    },
    {
      "attachments": {},
      "cell_type": "markdown",
      "metadata": {
        "id": "lC6KFRtIaFhl"
      },
      "source": [
        "# Use conditional statements and different type of loops based on simple example/s"
      ]
    },
    {
      "cell_type": "code",
      "execution_count": 59,
      "metadata": {
        "colab": {
          "base_uri": "https://localhost:8080/",
          "height": 36
        },
        "id": "s6RohvsFaD5a",
        "outputId": "50f5fcc1-a940-45dc-d282-41ed61fc0550"
      },
      "outputs": [
        {
          "data": {
            "application/vnd.google.colaboratory.intrinsic+json": {
              "type": "string"
            },
            "text/plain": [
              "'A'"
            ]
          },
          "execution_count": 59,
          "metadata": {},
          "output_type": "execute_result"
        }
      ],
      "source": [
        "#if - elif - else\n",
        "grade = None\n",
        "marks = 90\n",
        "if marks >= 95:\n",
        " grade = 'A+'\n",
        "elif marks >= 90:\n",
        " grade = 'A'\n",
        "elif marks >= 80:\n",
        " grade = 'B'\n",
        "elif marks >= 75:\n",
        " grade = 'C'\n",
        "elif marks >= 65:\n",
        " grade = 'D'\n",
        "else:\n",
        " grade = 'F'\n",
        "grade"
      ]
    },
    {
      "cell_type": "code",
      "execution_count": 61,
      "metadata": {
        "colab": {
          "base_uri": "https://localhost:8080/"
        },
        "id": "4tVaj8nmaTp-",
        "outputId": "5118717a-4fd5-477d-d361-8c755709f1f3"
      },
      "outputs": [
        {
          "name": "stdout",
          "output_type": "stream",
          "text": [
            "1\n",
            "2\n",
            "3\n"
          ]
        }
      ],
      "source": [
        "# while loop\n",
        "i = 1\n",
        "while i < 6:\n",
        " print(i)\n",
        " if i == 3:\n",
        "   break\n",
        " i += 1\n"
      ]
    },
    {
      "cell_type": "code",
      "execution_count": 62,
      "metadata": {
        "colab": {
          "base_uri": "https://localhost:8080/"
        },
        "id": "KwysdxcfaYf3",
        "outputId": "791abdd1-dd9b-411d-c4f5-a99a5b44f52f"
      },
      "outputs": [
        {
          "name": "stdout",
          "output_type": "stream",
          "text": [
            "apple\n",
            "cherry\n",
            "banana\n"
          ]
        }
      ],
      "source": [
        "# for loop\n",
        "fruits = [\"apple\", \"cherry\", \"banana\"]\n",
        "for x in fruits:\n",
        " print(x)\n",
        " if x == \"banana\":\n",
        "   break"
      ]
    },
    {
      "attachments": {},
      "cell_type": "markdown",
      "metadata": {
        "id": "gKgNm3o1ad1b"
      },
      "source": [
        "# Perform vectorized implementation of simple matrix operation like finding the transpose of a matrix, adding, subtracting or multiplying two matrices."
      ]
    },
    {
      "cell_type": "code",
      "execution_count": 63,
      "metadata": {
        "colab": {
          "base_uri": "https://localhost:8080/"
        },
        "id": "CWv5GWqYakL5",
        "outputId": "1dbcdb84-ff2e-4639-e1bb-3eababb1e33a"
      },
      "outputs": [
        {
          "name": "stdout",
          "output_type": "stream",
          "text": [
            "A = \n",
            " [[  3   6   9]\n",
            " [  5 -10  15]\n",
            " [ -7  14  21]] \n",
            "B = \n",
            " [[  9 -18  27]\n",
            " [ 11  22  33]\n",
            " [ 13 -26  39]]\n"
          ]
        }
      ],
      "source": [
        "import numpy as np\n",
        "A = np.array([[3, 6, 9], [5, -10, 15], [-7, 14, 21]])\n",
        "B = np.array([[9, -18, 27], [11, 22, 33], [13, -26, 39]])\n",
        "print(\"A = \\n\", A, \"\\nB = \\n\", B)"
      ]
    },
    {
      "cell_type": "code",
      "execution_count": 64,
      "metadata": {
        "colab": {
          "base_uri": "https://localhost:8080/"
        },
        "id": "zKwOl6nKaoCg",
        "outputId": "91436411-2cdc-45dd-b67a-31d7eac36b20"
      },
      "outputs": [
        {
          "data": {
            "text/plain": [
              "array([[ 12, -12,  36],\n",
              "       [ 16,  12,  48],\n",
              "       [  6, -12,  60]])"
            ]
          },
          "execution_count": 64,
          "metadata": {},
          "output_type": "execute_result"
        }
      ],
      "source": [
        "# Addition\n",
        "A + B"
      ]
    },
    {
      "cell_type": "code",
      "execution_count": 65,
      "metadata": {
        "colab": {
          "base_uri": "https://localhost:8080/"
        },
        "id": "MAXDVUiYashZ",
        "outputId": "e103a16d-5cad-40fc-ca6f-55f955a8c1e1"
      },
      "outputs": [
        {
          "data": {
            "text/plain": [
              "array([[ -6,  24, -18],\n",
              "       [ -6, -32, -18],\n",
              "       [-20,  40, -18]])"
            ]
          },
          "execution_count": 65,
          "metadata": {},
          "output_type": "execute_result"
        }
      ],
      "source": [
        "# Subtraction\n",
        "A - B"
      ]
    },
    {
      "cell_type": "code",
      "execution_count": 66,
      "metadata": {
        "colab": {
          "base_uri": "https://localhost:8080/"
        },
        "id": "CE2u9-3eaxrC",
        "outputId": "d1cf20a5-d789-48ef-8197-8973e4dae3c5"
      },
      "outputs": [
        {
          "data": {
            "text/plain": [
              "array([[ 210, -156,  630],\n",
              "       [ 130, -700,  390],\n",
              "       [ 364, -112, 1092]])"
            ]
          },
          "execution_count": 66,
          "metadata": {},
          "output_type": "execute_result"
        }
      ],
      "source": [
        "# Multiplication\n",
        "A @ B"
      ]
    },
    {
      "cell_type": "code",
      "execution_count": 67,
      "metadata": {
        "colab": {
          "base_uri": "https://localhost:8080/"
        },
        "id": "-Q5TkFcDa04j",
        "outputId": "da6f47a6-a203-45cb-aa02-cd0f7d07e4de"
      },
      "outputs": [
        {
          "name": "stdout",
          "output_type": "stream",
          "text": [
            "A' = \n",
            " [[  3   5  -7]\n",
            " [  6 -10  14]\n",
            " [  9  15  21]] \n",
            "B' = \n",
            " [[  9  11  13]\n",
            " [-18  22 -26]\n",
            " [ 27  33  39]]\n"
          ]
        }
      ],
      "source": [
        "# Transpose\n",
        "print(\"A' = \\n\", np.transpose(A),\n",
        " \"\\nB' = \\n\", np.transpose(B))"
      ]
    }
  ],
  "metadata": {
    "colab": {
      "provenance": []
    },
    "kernelspec": {
      "display_name": "Python 3",
      "name": "python3"
    },
    "language_info": {
      "name": "python"
    }
  },
  "nbformat": 4,
  "nbformat_minor": 0
}
